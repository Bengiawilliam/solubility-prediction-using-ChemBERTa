{
  "nbformat": 4,
  "nbformat_minor": 0,
  "metadata": {
    "colab": {
      "provenance": [],
      "machine_shape": "hm",
      "gpuType": "L4",
      "authorship_tag": "ABX9TyPX8Gb/ny9e5ZyMEZEqKf92",
      "include_colab_link": true
    },
    "kernelspec": {
      "name": "python3",
      "display_name": "Python 3"
    },
    "language_info": {
      "name": "python"
    },
    "accelerator": "GPU",
    "widgets": {
      "application/vnd.jupyter.widget-state+json": {
        "6435636dec0446b2a6d0229409ba4841": {
          "model_module": "@jupyter-widgets/controls",
          "model_name": "HBoxModel",
          "model_module_version": "1.5.0",
          "state": {
            "_dom_classes": [],
            "_model_module": "@jupyter-widgets/controls",
            "_model_module_version": "1.5.0",
            "_model_name": "HBoxModel",
            "_view_count": null,
            "_view_module": "@jupyter-widgets/controls",
            "_view_module_version": "1.5.0",
            "_view_name": "HBoxView",
            "box_style": "",
            "children": [
              "IPY_MODEL_142e215e53e748f397e3952fbf7a784a",
              "IPY_MODEL_a7b6b37396d846da911ccee9f117f5bf",
              "IPY_MODEL_7831093f49b445cb81ee70e6f6b80bb1"
            ],
            "layout": "IPY_MODEL_1ecc0d8c59344219b6d6137a1b2ce6f4"
          }
        },
        "142e215e53e748f397e3952fbf7a784a": {
          "model_module": "@jupyter-widgets/controls",
          "model_name": "HTMLModel",
          "model_module_version": "1.5.0",
          "state": {
            "_dom_classes": [],
            "_model_module": "@jupyter-widgets/controls",
            "_model_module_version": "1.5.0",
            "_model_name": "HTMLModel",
            "_view_count": null,
            "_view_module": "@jupyter-widgets/controls",
            "_view_module_version": "1.5.0",
            "_view_name": "HTMLView",
            "description": "",
            "description_tooltip": null,
            "layout": "IPY_MODEL_caa5a8816c3942699fdb368fcc134589",
            "placeholder": "​",
            "style": "IPY_MODEL_56bdb6b1ed5b4bef8dc5158c8e3d0149",
            "value": "tokenizer_config.json: 100%"
          }
        },
        "a7b6b37396d846da911ccee9f117f5bf": {
          "model_module": "@jupyter-widgets/controls",
          "model_name": "FloatProgressModel",
          "model_module_version": "1.5.0",
          "state": {
            "_dom_classes": [],
            "_model_module": "@jupyter-widgets/controls",
            "_model_module_version": "1.5.0",
            "_model_name": "FloatProgressModel",
            "_view_count": null,
            "_view_module": "@jupyter-widgets/controls",
            "_view_module_version": "1.5.0",
            "_view_name": "ProgressView",
            "bar_style": "success",
            "description": "",
            "description_tooltip": null,
            "layout": "IPY_MODEL_785bcc4fdaea4fe6a2908ec52f5fb27b",
            "max": 166,
            "min": 0,
            "orientation": "horizontal",
            "style": "IPY_MODEL_047d928399f2467aa7841cbc35dc6f58",
            "value": 166
          }
        },
        "7831093f49b445cb81ee70e6f6b80bb1": {
          "model_module": "@jupyter-widgets/controls",
          "model_name": "HTMLModel",
          "model_module_version": "1.5.0",
          "state": {
            "_dom_classes": [],
            "_model_module": "@jupyter-widgets/controls",
            "_model_module_version": "1.5.0",
            "_model_name": "HTMLModel",
            "_view_count": null,
            "_view_module": "@jupyter-widgets/controls",
            "_view_module_version": "1.5.0",
            "_view_name": "HTMLView",
            "description": "",
            "description_tooltip": null,
            "layout": "IPY_MODEL_0500df72e3eb485d9d03415493483d1e",
            "placeholder": "​",
            "style": "IPY_MODEL_f757db0bd97a47e287bdcf6ce608b9c5",
            "value": " 166/166 [00:00&lt;00:00, 20.1kB/s]"
          }
        },
        "1ecc0d8c59344219b6d6137a1b2ce6f4": {
          "model_module": "@jupyter-widgets/base",
          "model_name": "LayoutModel",
          "model_module_version": "1.2.0",
          "state": {
            "_model_module": "@jupyter-widgets/base",
            "_model_module_version": "1.2.0",
            "_model_name": "LayoutModel",
            "_view_count": null,
            "_view_module": "@jupyter-widgets/base",
            "_view_module_version": "1.2.0",
            "_view_name": "LayoutView",
            "align_content": null,
            "align_items": null,
            "align_self": null,
            "border": null,
            "bottom": null,
            "display": null,
            "flex": null,
            "flex_flow": null,
            "grid_area": null,
            "grid_auto_columns": null,
            "grid_auto_flow": null,
            "grid_auto_rows": null,
            "grid_column": null,
            "grid_gap": null,
            "grid_row": null,
            "grid_template_areas": null,
            "grid_template_columns": null,
            "grid_template_rows": null,
            "height": null,
            "justify_content": null,
            "justify_items": null,
            "left": null,
            "margin": null,
            "max_height": null,
            "max_width": null,
            "min_height": null,
            "min_width": null,
            "object_fit": null,
            "object_position": null,
            "order": null,
            "overflow": null,
            "overflow_x": null,
            "overflow_y": null,
            "padding": null,
            "right": null,
            "top": null,
            "visibility": null,
            "width": null
          }
        },
        "caa5a8816c3942699fdb368fcc134589": {
          "model_module": "@jupyter-widgets/base",
          "model_name": "LayoutModel",
          "model_module_version": "1.2.0",
          "state": {
            "_model_module": "@jupyter-widgets/base",
            "_model_module_version": "1.2.0",
            "_model_name": "LayoutModel",
            "_view_count": null,
            "_view_module": "@jupyter-widgets/base",
            "_view_module_version": "1.2.0",
            "_view_name": "LayoutView",
            "align_content": null,
            "align_items": null,
            "align_self": null,
            "border": null,
            "bottom": null,
            "display": null,
            "flex": null,
            "flex_flow": null,
            "grid_area": null,
            "grid_auto_columns": null,
            "grid_auto_flow": null,
            "grid_auto_rows": null,
            "grid_column": null,
            "grid_gap": null,
            "grid_row": null,
            "grid_template_areas": null,
            "grid_template_columns": null,
            "grid_template_rows": null,
            "height": null,
            "justify_content": null,
            "justify_items": null,
            "left": null,
            "margin": null,
            "max_height": null,
            "max_width": null,
            "min_height": null,
            "min_width": null,
            "object_fit": null,
            "object_position": null,
            "order": null,
            "overflow": null,
            "overflow_x": null,
            "overflow_y": null,
            "padding": null,
            "right": null,
            "top": null,
            "visibility": null,
            "width": null
          }
        },
        "56bdb6b1ed5b4bef8dc5158c8e3d0149": {
          "model_module": "@jupyter-widgets/controls",
          "model_name": "DescriptionStyleModel",
          "model_module_version": "1.5.0",
          "state": {
            "_model_module": "@jupyter-widgets/controls",
            "_model_module_version": "1.5.0",
            "_model_name": "DescriptionStyleModel",
            "_view_count": null,
            "_view_module": "@jupyter-widgets/base",
            "_view_module_version": "1.2.0",
            "_view_name": "StyleView",
            "description_width": ""
          }
        },
        "785bcc4fdaea4fe6a2908ec52f5fb27b": {
          "model_module": "@jupyter-widgets/base",
          "model_name": "LayoutModel",
          "model_module_version": "1.2.0",
          "state": {
            "_model_module": "@jupyter-widgets/base",
            "_model_module_version": "1.2.0",
            "_model_name": "LayoutModel",
            "_view_count": null,
            "_view_module": "@jupyter-widgets/base",
            "_view_module_version": "1.2.0",
            "_view_name": "LayoutView",
            "align_content": null,
            "align_items": null,
            "align_self": null,
            "border": null,
            "bottom": null,
            "display": null,
            "flex": null,
            "flex_flow": null,
            "grid_area": null,
            "grid_auto_columns": null,
            "grid_auto_flow": null,
            "grid_auto_rows": null,
            "grid_column": null,
            "grid_gap": null,
            "grid_row": null,
            "grid_template_areas": null,
            "grid_template_columns": null,
            "grid_template_rows": null,
            "height": null,
            "justify_content": null,
            "justify_items": null,
            "left": null,
            "margin": null,
            "max_height": null,
            "max_width": null,
            "min_height": null,
            "min_width": null,
            "object_fit": null,
            "object_position": null,
            "order": null,
            "overflow": null,
            "overflow_x": null,
            "overflow_y": null,
            "padding": null,
            "right": null,
            "top": null,
            "visibility": null,
            "width": null
          }
        },
        "047d928399f2467aa7841cbc35dc6f58": {
          "model_module": "@jupyter-widgets/controls",
          "model_name": "ProgressStyleModel",
          "model_module_version": "1.5.0",
          "state": {
            "_model_module": "@jupyter-widgets/controls",
            "_model_module_version": "1.5.0",
            "_model_name": "ProgressStyleModel",
            "_view_count": null,
            "_view_module": "@jupyter-widgets/base",
            "_view_module_version": "1.2.0",
            "_view_name": "StyleView",
            "bar_color": null,
            "description_width": ""
          }
        },
        "0500df72e3eb485d9d03415493483d1e": {
          "model_module": "@jupyter-widgets/base",
          "model_name": "LayoutModel",
          "model_module_version": "1.2.0",
          "state": {
            "_model_module": "@jupyter-widgets/base",
            "_model_module_version": "1.2.0",
            "_model_name": "LayoutModel",
            "_view_count": null,
            "_view_module": "@jupyter-widgets/base",
            "_view_module_version": "1.2.0",
            "_view_name": "LayoutView",
            "align_content": null,
            "align_items": null,
            "align_self": null,
            "border": null,
            "bottom": null,
            "display": null,
            "flex": null,
            "flex_flow": null,
            "grid_area": null,
            "grid_auto_columns": null,
            "grid_auto_flow": null,
            "grid_auto_rows": null,
            "grid_column": null,
            "grid_gap": null,
            "grid_row": null,
            "grid_template_areas": null,
            "grid_template_columns": null,
            "grid_template_rows": null,
            "height": null,
            "justify_content": null,
            "justify_items": null,
            "left": null,
            "margin": null,
            "max_height": null,
            "max_width": null,
            "min_height": null,
            "min_width": null,
            "object_fit": null,
            "object_position": null,
            "order": null,
            "overflow": null,
            "overflow_x": null,
            "overflow_y": null,
            "padding": null,
            "right": null,
            "top": null,
            "visibility": null,
            "width": null
          }
        },
        "f757db0bd97a47e287bdcf6ce608b9c5": {
          "model_module": "@jupyter-widgets/controls",
          "model_name": "DescriptionStyleModel",
          "model_module_version": "1.5.0",
          "state": {
            "_model_module": "@jupyter-widgets/controls",
            "_model_module_version": "1.5.0",
            "_model_name": "DescriptionStyleModel",
            "_view_count": null,
            "_view_module": "@jupyter-widgets/base",
            "_view_module_version": "1.2.0",
            "_view_name": "StyleView",
            "description_width": ""
          }
        },
        "663e1e93e9b14519be12852c34868c4e": {
          "model_module": "@jupyter-widgets/controls",
          "model_name": "HBoxModel",
          "model_module_version": "1.5.0",
          "state": {
            "_dom_classes": [],
            "_model_module": "@jupyter-widgets/controls",
            "_model_module_version": "1.5.0",
            "_model_name": "HBoxModel",
            "_view_count": null,
            "_view_module": "@jupyter-widgets/controls",
            "_view_module_version": "1.5.0",
            "_view_name": "HBoxView",
            "box_style": "",
            "children": [
              "IPY_MODEL_5a9068b8b14541669738e08c0f8ffa82",
              "IPY_MODEL_23c27f328ccf42e0a2d5328bb7adc857",
              "IPY_MODEL_a3ec48f30bdc4102833ab249ec7196fc"
            ],
            "layout": "IPY_MODEL_2435e46a050b4706a38485ea824316f1"
          }
        },
        "5a9068b8b14541669738e08c0f8ffa82": {
          "model_module": "@jupyter-widgets/controls",
          "model_name": "HTMLModel",
          "model_module_version": "1.5.0",
          "state": {
            "_dom_classes": [],
            "_model_module": "@jupyter-widgets/controls",
            "_model_module_version": "1.5.0",
            "_model_name": "HTMLModel",
            "_view_count": null,
            "_view_module": "@jupyter-widgets/controls",
            "_view_module_version": "1.5.0",
            "_view_name": "HTMLView",
            "description": "",
            "description_tooltip": null,
            "layout": "IPY_MODEL_485623bcdb9246d5a04d615821643b33",
            "placeholder": "​",
            "style": "IPY_MODEL_bfce685371824f49ac56184fb6de1545",
            "value": "config.json: 100%"
          }
        },
        "23c27f328ccf42e0a2d5328bb7adc857": {
          "model_module": "@jupyter-widgets/controls",
          "model_name": "FloatProgressModel",
          "model_module_version": "1.5.0",
          "state": {
            "_dom_classes": [],
            "_model_module": "@jupyter-widgets/controls",
            "_model_module_version": "1.5.0",
            "_model_name": "FloatProgressModel",
            "_view_count": null,
            "_view_module": "@jupyter-widgets/controls",
            "_view_module_version": "1.5.0",
            "_view_name": "ProgressView",
            "bar_style": "success",
            "description": "",
            "description_tooltip": null,
            "layout": "IPY_MODEL_33a73fe926134f1cb363c45a051ae8ff",
            "max": 501,
            "min": 0,
            "orientation": "horizontal",
            "style": "IPY_MODEL_c896c993a73844c7954cdd0b6553e73b",
            "value": 501
          }
        },
        "a3ec48f30bdc4102833ab249ec7196fc": {
          "model_module": "@jupyter-widgets/controls",
          "model_name": "HTMLModel",
          "model_module_version": "1.5.0",
          "state": {
            "_dom_classes": [],
            "_model_module": "@jupyter-widgets/controls",
            "_model_module_version": "1.5.0",
            "_model_name": "HTMLModel",
            "_view_count": null,
            "_view_module": "@jupyter-widgets/controls",
            "_view_module_version": "1.5.0",
            "_view_name": "HTMLView",
            "description": "",
            "description_tooltip": null,
            "layout": "IPY_MODEL_8d51e8d81b814121a61133c25d1c9dd1",
            "placeholder": "​",
            "style": "IPY_MODEL_6ce31020f1d54dfb9301d051659ba591",
            "value": " 501/501 [00:00&lt;00:00, 62.6kB/s]"
          }
        },
        "2435e46a050b4706a38485ea824316f1": {
          "model_module": "@jupyter-widgets/base",
          "model_name": "LayoutModel",
          "model_module_version": "1.2.0",
          "state": {
            "_model_module": "@jupyter-widgets/base",
            "_model_module_version": "1.2.0",
            "_model_name": "LayoutModel",
            "_view_count": null,
            "_view_module": "@jupyter-widgets/base",
            "_view_module_version": "1.2.0",
            "_view_name": "LayoutView",
            "align_content": null,
            "align_items": null,
            "align_self": null,
            "border": null,
            "bottom": null,
            "display": null,
            "flex": null,
            "flex_flow": null,
            "grid_area": null,
            "grid_auto_columns": null,
            "grid_auto_flow": null,
            "grid_auto_rows": null,
            "grid_column": null,
            "grid_gap": null,
            "grid_row": null,
            "grid_template_areas": null,
            "grid_template_columns": null,
            "grid_template_rows": null,
            "height": null,
            "justify_content": null,
            "justify_items": null,
            "left": null,
            "margin": null,
            "max_height": null,
            "max_width": null,
            "min_height": null,
            "min_width": null,
            "object_fit": null,
            "object_position": null,
            "order": null,
            "overflow": null,
            "overflow_x": null,
            "overflow_y": null,
            "padding": null,
            "right": null,
            "top": null,
            "visibility": null,
            "width": null
          }
        },
        "485623bcdb9246d5a04d615821643b33": {
          "model_module": "@jupyter-widgets/base",
          "model_name": "LayoutModel",
          "model_module_version": "1.2.0",
          "state": {
            "_model_module": "@jupyter-widgets/base",
            "_model_module_version": "1.2.0",
            "_model_name": "LayoutModel",
            "_view_count": null,
            "_view_module": "@jupyter-widgets/base",
            "_view_module_version": "1.2.0",
            "_view_name": "LayoutView",
            "align_content": null,
            "align_items": null,
            "align_self": null,
            "border": null,
            "bottom": null,
            "display": null,
            "flex": null,
            "flex_flow": null,
            "grid_area": null,
            "grid_auto_columns": null,
            "grid_auto_flow": null,
            "grid_auto_rows": null,
            "grid_column": null,
            "grid_gap": null,
            "grid_row": null,
            "grid_template_areas": null,
            "grid_template_columns": null,
            "grid_template_rows": null,
            "height": null,
            "justify_content": null,
            "justify_items": null,
            "left": null,
            "margin": null,
            "max_height": null,
            "max_width": null,
            "min_height": null,
            "min_width": null,
            "object_fit": null,
            "object_position": null,
            "order": null,
            "overflow": null,
            "overflow_x": null,
            "overflow_y": null,
            "padding": null,
            "right": null,
            "top": null,
            "visibility": null,
            "width": null
          }
        },
        "bfce685371824f49ac56184fb6de1545": {
          "model_module": "@jupyter-widgets/controls",
          "model_name": "DescriptionStyleModel",
          "model_module_version": "1.5.0",
          "state": {
            "_model_module": "@jupyter-widgets/controls",
            "_model_module_version": "1.5.0",
            "_model_name": "DescriptionStyleModel",
            "_view_count": null,
            "_view_module": "@jupyter-widgets/base",
            "_view_module_version": "1.2.0",
            "_view_name": "StyleView",
            "description_width": ""
          }
        },
        "33a73fe926134f1cb363c45a051ae8ff": {
          "model_module": "@jupyter-widgets/base",
          "model_name": "LayoutModel",
          "model_module_version": "1.2.0",
          "state": {
            "_model_module": "@jupyter-widgets/base",
            "_model_module_version": "1.2.0",
            "_model_name": "LayoutModel",
            "_view_count": null,
            "_view_module": "@jupyter-widgets/base",
            "_view_module_version": "1.2.0",
            "_view_name": "LayoutView",
            "align_content": null,
            "align_items": null,
            "align_self": null,
            "border": null,
            "bottom": null,
            "display": null,
            "flex": null,
            "flex_flow": null,
            "grid_area": null,
            "grid_auto_columns": null,
            "grid_auto_flow": null,
            "grid_auto_rows": null,
            "grid_column": null,
            "grid_gap": null,
            "grid_row": null,
            "grid_template_areas": null,
            "grid_template_columns": null,
            "grid_template_rows": null,
            "height": null,
            "justify_content": null,
            "justify_items": null,
            "left": null,
            "margin": null,
            "max_height": null,
            "max_width": null,
            "min_height": null,
            "min_width": null,
            "object_fit": null,
            "object_position": null,
            "order": null,
            "overflow": null,
            "overflow_x": null,
            "overflow_y": null,
            "padding": null,
            "right": null,
            "top": null,
            "visibility": null,
            "width": null
          }
        },
        "c896c993a73844c7954cdd0b6553e73b": {
          "model_module": "@jupyter-widgets/controls",
          "model_name": "ProgressStyleModel",
          "model_module_version": "1.5.0",
          "state": {
            "_model_module": "@jupyter-widgets/controls",
            "_model_module_version": "1.5.0",
            "_model_name": "ProgressStyleModel",
            "_view_count": null,
            "_view_module": "@jupyter-widgets/base",
            "_view_module_version": "1.2.0",
            "_view_name": "StyleView",
            "bar_color": null,
            "description_width": ""
          }
        },
        "8d51e8d81b814121a61133c25d1c9dd1": {
          "model_module": "@jupyter-widgets/base",
          "model_name": "LayoutModel",
          "model_module_version": "1.2.0",
          "state": {
            "_model_module": "@jupyter-widgets/base",
            "_model_module_version": "1.2.0",
            "_model_name": "LayoutModel",
            "_view_count": null,
            "_view_module": "@jupyter-widgets/base",
            "_view_module_version": "1.2.0",
            "_view_name": "LayoutView",
            "align_content": null,
            "align_items": null,
            "align_self": null,
            "border": null,
            "bottom": null,
            "display": null,
            "flex": null,
            "flex_flow": null,
            "grid_area": null,
            "grid_auto_columns": null,
            "grid_auto_flow": null,
            "grid_auto_rows": null,
            "grid_column": null,
            "grid_gap": null,
            "grid_row": null,
            "grid_template_areas": null,
            "grid_template_columns": null,
            "grid_template_rows": null,
            "height": null,
            "justify_content": null,
            "justify_items": null,
            "left": null,
            "margin": null,
            "max_height": null,
            "max_width": null,
            "min_height": null,
            "min_width": null,
            "object_fit": null,
            "object_position": null,
            "order": null,
            "overflow": null,
            "overflow_x": null,
            "overflow_y": null,
            "padding": null,
            "right": null,
            "top": null,
            "visibility": null,
            "width": null
          }
        },
        "6ce31020f1d54dfb9301d051659ba591": {
          "model_module": "@jupyter-widgets/controls",
          "model_name": "DescriptionStyleModel",
          "model_module_version": "1.5.0",
          "state": {
            "_model_module": "@jupyter-widgets/controls",
            "_model_module_version": "1.5.0",
            "_model_name": "DescriptionStyleModel",
            "_view_count": null,
            "_view_module": "@jupyter-widgets/base",
            "_view_module_version": "1.2.0",
            "_view_name": "StyleView",
            "description_width": ""
          }
        },
        "e3ee05d1496c4732ab4827f98c103316": {
          "model_module": "@jupyter-widgets/controls",
          "model_name": "HBoxModel",
          "model_module_version": "1.5.0",
          "state": {
            "_dom_classes": [],
            "_model_module": "@jupyter-widgets/controls",
            "_model_module_version": "1.5.0",
            "_model_name": "HBoxModel",
            "_view_count": null,
            "_view_module": "@jupyter-widgets/controls",
            "_view_module_version": "1.5.0",
            "_view_name": "HBoxView",
            "box_style": "",
            "children": [
              "IPY_MODEL_0c30a5e74eb041fbb6dc1a3ba203053a",
              "IPY_MODEL_b796d20a8e134db9a5f583bb79f69ae9",
              "IPY_MODEL_8c16d5ed45ce48cbbaab9fdbc2cf1212"
            ],
            "layout": "IPY_MODEL_0d6fd13901d44ebebd7a6fe3f8b049aa"
          }
        },
        "0c30a5e74eb041fbb6dc1a3ba203053a": {
          "model_module": "@jupyter-widgets/controls",
          "model_name": "HTMLModel",
          "model_module_version": "1.5.0",
          "state": {
            "_dom_classes": [],
            "_model_module": "@jupyter-widgets/controls",
            "_model_module_version": "1.5.0",
            "_model_name": "HTMLModel",
            "_view_count": null,
            "_view_module": "@jupyter-widgets/controls",
            "_view_module_version": "1.5.0",
            "_view_name": "HTMLView",
            "description": "",
            "description_tooltip": null,
            "layout": "IPY_MODEL_e28af90c43b0469d8ab3e89626d63926",
            "placeholder": "​",
            "style": "IPY_MODEL_5c4d81b0ec914b96a4b1446431ba76af",
            "value": "vocab.json: 100%"
          }
        },
        "b796d20a8e134db9a5f583bb79f69ae9": {
          "model_module": "@jupyter-widgets/controls",
          "model_name": "FloatProgressModel",
          "model_module_version": "1.5.0",
          "state": {
            "_dom_classes": [],
            "_model_module": "@jupyter-widgets/controls",
            "_model_module_version": "1.5.0",
            "_model_name": "FloatProgressModel",
            "_view_count": null,
            "_view_module": "@jupyter-widgets/controls",
            "_view_module_version": "1.5.0",
            "_view_name": "ProgressView",
            "bar_style": "success",
            "description": "",
            "description_tooltip": null,
            "layout": "IPY_MODEL_7f7fd7d841554c6b9838cc691f701557",
            "max": 9429,
            "min": 0,
            "orientation": "horizontal",
            "style": "IPY_MODEL_f77545a64b3f4936aff5081b5355fabb",
            "value": 9429
          }
        },
        "8c16d5ed45ce48cbbaab9fdbc2cf1212": {
          "model_module": "@jupyter-widgets/controls",
          "model_name": "HTMLModel",
          "model_module_version": "1.5.0",
          "state": {
            "_dom_classes": [],
            "_model_module": "@jupyter-widgets/controls",
            "_model_module_version": "1.5.0",
            "_model_name": "HTMLModel",
            "_view_count": null,
            "_view_module": "@jupyter-widgets/controls",
            "_view_module_version": "1.5.0",
            "_view_name": "HTMLView",
            "description": "",
            "description_tooltip": null,
            "layout": "IPY_MODEL_5476a438d7404fddafe13ee9a8bcfebe",
            "placeholder": "​",
            "style": "IPY_MODEL_bd2485e6140848d080b51ab75575754d",
            "value": " 9.43k/9.43k [00:00&lt;00:00, 1.23MB/s]"
          }
        },
        "0d6fd13901d44ebebd7a6fe3f8b049aa": {
          "model_module": "@jupyter-widgets/base",
          "model_name": "LayoutModel",
          "model_module_version": "1.2.0",
          "state": {
            "_model_module": "@jupyter-widgets/base",
            "_model_module_version": "1.2.0",
            "_model_name": "LayoutModel",
            "_view_count": null,
            "_view_module": "@jupyter-widgets/base",
            "_view_module_version": "1.2.0",
            "_view_name": "LayoutView",
            "align_content": null,
            "align_items": null,
            "align_self": null,
            "border": null,
            "bottom": null,
            "display": null,
            "flex": null,
            "flex_flow": null,
            "grid_area": null,
            "grid_auto_columns": null,
            "grid_auto_flow": null,
            "grid_auto_rows": null,
            "grid_column": null,
            "grid_gap": null,
            "grid_row": null,
            "grid_template_areas": null,
            "grid_template_columns": null,
            "grid_template_rows": null,
            "height": null,
            "justify_content": null,
            "justify_items": null,
            "left": null,
            "margin": null,
            "max_height": null,
            "max_width": null,
            "min_height": null,
            "min_width": null,
            "object_fit": null,
            "object_position": null,
            "order": null,
            "overflow": null,
            "overflow_x": null,
            "overflow_y": null,
            "padding": null,
            "right": null,
            "top": null,
            "visibility": null,
            "width": null
          }
        },
        "e28af90c43b0469d8ab3e89626d63926": {
          "model_module": "@jupyter-widgets/base",
          "model_name": "LayoutModel",
          "model_module_version": "1.2.0",
          "state": {
            "_model_module": "@jupyter-widgets/base",
            "_model_module_version": "1.2.0",
            "_model_name": "LayoutModel",
            "_view_count": null,
            "_view_module": "@jupyter-widgets/base",
            "_view_module_version": "1.2.0",
            "_view_name": "LayoutView",
            "align_content": null,
            "align_items": null,
            "align_self": null,
            "border": null,
            "bottom": null,
            "display": null,
            "flex": null,
            "flex_flow": null,
            "grid_area": null,
            "grid_auto_columns": null,
            "grid_auto_flow": null,
            "grid_auto_rows": null,
            "grid_column": null,
            "grid_gap": null,
            "grid_row": null,
            "grid_template_areas": null,
            "grid_template_columns": null,
            "grid_template_rows": null,
            "height": null,
            "justify_content": null,
            "justify_items": null,
            "left": null,
            "margin": null,
            "max_height": null,
            "max_width": null,
            "min_height": null,
            "min_width": null,
            "object_fit": null,
            "object_position": null,
            "order": null,
            "overflow": null,
            "overflow_x": null,
            "overflow_y": null,
            "padding": null,
            "right": null,
            "top": null,
            "visibility": null,
            "width": null
          }
        },
        "5c4d81b0ec914b96a4b1446431ba76af": {
          "model_module": "@jupyter-widgets/controls",
          "model_name": "DescriptionStyleModel",
          "model_module_version": "1.5.0",
          "state": {
            "_model_module": "@jupyter-widgets/controls",
            "_model_module_version": "1.5.0",
            "_model_name": "DescriptionStyleModel",
            "_view_count": null,
            "_view_module": "@jupyter-widgets/base",
            "_view_module_version": "1.2.0",
            "_view_name": "StyleView",
            "description_width": ""
          }
        },
        "7f7fd7d841554c6b9838cc691f701557": {
          "model_module": "@jupyter-widgets/base",
          "model_name": "LayoutModel",
          "model_module_version": "1.2.0",
          "state": {
            "_model_module": "@jupyter-widgets/base",
            "_model_module_version": "1.2.0",
            "_model_name": "LayoutModel",
            "_view_count": null,
            "_view_module": "@jupyter-widgets/base",
            "_view_module_version": "1.2.0",
            "_view_name": "LayoutView",
            "align_content": null,
            "align_items": null,
            "align_self": null,
            "border": null,
            "bottom": null,
            "display": null,
            "flex": null,
            "flex_flow": null,
            "grid_area": null,
            "grid_auto_columns": null,
            "grid_auto_flow": null,
            "grid_auto_rows": null,
            "grid_column": null,
            "grid_gap": null,
            "grid_row": null,
            "grid_template_areas": null,
            "grid_template_columns": null,
            "grid_template_rows": null,
            "height": null,
            "justify_content": null,
            "justify_items": null,
            "left": null,
            "margin": null,
            "max_height": null,
            "max_width": null,
            "min_height": null,
            "min_width": null,
            "object_fit": null,
            "object_position": null,
            "order": null,
            "overflow": null,
            "overflow_x": null,
            "overflow_y": null,
            "padding": null,
            "right": null,
            "top": null,
            "visibility": null,
            "width": null
          }
        },
        "f77545a64b3f4936aff5081b5355fabb": {
          "model_module": "@jupyter-widgets/controls",
          "model_name": "ProgressStyleModel",
          "model_module_version": "1.5.0",
          "state": {
            "_model_module": "@jupyter-widgets/controls",
            "_model_module_version": "1.5.0",
            "_model_name": "ProgressStyleModel",
            "_view_count": null,
            "_view_module": "@jupyter-widgets/base",
            "_view_module_version": "1.2.0",
            "_view_name": "StyleView",
            "bar_color": null,
            "description_width": ""
          }
        },
        "5476a438d7404fddafe13ee9a8bcfebe": {
          "model_module": "@jupyter-widgets/base",
          "model_name": "LayoutModel",
          "model_module_version": "1.2.0",
          "state": {
            "_model_module": "@jupyter-widgets/base",
            "_model_module_version": "1.2.0",
            "_model_name": "LayoutModel",
            "_view_count": null,
            "_view_module": "@jupyter-widgets/base",
            "_view_module_version": "1.2.0",
            "_view_name": "LayoutView",
            "align_content": null,
            "align_items": null,
            "align_self": null,
            "border": null,
            "bottom": null,
            "display": null,
            "flex": null,
            "flex_flow": null,
            "grid_area": null,
            "grid_auto_columns": null,
            "grid_auto_flow": null,
            "grid_auto_rows": null,
            "grid_column": null,
            "grid_gap": null,
            "grid_row": null,
            "grid_template_areas": null,
            "grid_template_columns": null,
            "grid_template_rows": null,
            "height": null,
            "justify_content": null,
            "justify_items": null,
            "left": null,
            "margin": null,
            "max_height": null,
            "max_width": null,
            "min_height": null,
            "min_width": null,
            "object_fit": null,
            "object_position": null,
            "order": null,
            "overflow": null,
            "overflow_x": null,
            "overflow_y": null,
            "padding": null,
            "right": null,
            "top": null,
            "visibility": null,
            "width": null
          }
        },
        "bd2485e6140848d080b51ab75575754d": {
          "model_module": "@jupyter-widgets/controls",
          "model_name": "DescriptionStyleModel",
          "model_module_version": "1.5.0",
          "state": {
            "_model_module": "@jupyter-widgets/controls",
            "_model_module_version": "1.5.0",
            "_model_name": "DescriptionStyleModel",
            "_view_count": null,
            "_view_module": "@jupyter-widgets/base",
            "_view_module_version": "1.2.0",
            "_view_name": "StyleView",
            "description_width": ""
          }
        },
        "3689c839a88c41aaa60aa9ec09183737": {
          "model_module": "@jupyter-widgets/controls",
          "model_name": "HBoxModel",
          "model_module_version": "1.5.0",
          "state": {
            "_dom_classes": [],
            "_model_module": "@jupyter-widgets/controls",
            "_model_module_version": "1.5.0",
            "_model_name": "HBoxModel",
            "_view_count": null,
            "_view_module": "@jupyter-widgets/controls",
            "_view_module_version": "1.5.0",
            "_view_name": "HBoxView",
            "box_style": "",
            "children": [
              "IPY_MODEL_2364f3e00c4d4aa7a6c606b40cad9df0",
              "IPY_MODEL_c3d4168a20e942b69474ce4dff91ab2e",
              "IPY_MODEL_211b7a9b28b844cd8d5e4a9876189fd9"
            ],
            "layout": "IPY_MODEL_3fa8da79b4bb4d178a4da3647049ea24"
          }
        },
        "2364f3e00c4d4aa7a6c606b40cad9df0": {
          "model_module": "@jupyter-widgets/controls",
          "model_name": "HTMLModel",
          "model_module_version": "1.5.0",
          "state": {
            "_dom_classes": [],
            "_model_module": "@jupyter-widgets/controls",
            "_model_module_version": "1.5.0",
            "_model_name": "HTMLModel",
            "_view_count": null,
            "_view_module": "@jupyter-widgets/controls",
            "_view_module_version": "1.5.0",
            "_view_name": "HTMLView",
            "description": "",
            "description_tooltip": null,
            "layout": "IPY_MODEL_3e95b9e2256c41c899cfcbff1a7cfd2f",
            "placeholder": "​",
            "style": "IPY_MODEL_7edcd4351edc4160bef12dc649f104d5",
            "value": "merges.txt: 100%"
          }
        },
        "c3d4168a20e942b69474ce4dff91ab2e": {
          "model_module": "@jupyter-widgets/controls",
          "model_name": "FloatProgressModel",
          "model_module_version": "1.5.0",
          "state": {
            "_dom_classes": [],
            "_model_module": "@jupyter-widgets/controls",
            "_model_module_version": "1.5.0",
            "_model_name": "FloatProgressModel",
            "_view_count": null,
            "_view_module": "@jupyter-widgets/controls",
            "_view_module_version": "1.5.0",
            "_view_name": "ProgressView",
            "bar_style": "success",
            "description": "",
            "description_tooltip": null,
            "layout": "IPY_MODEL_574edabc9465404fb42570d3acff570a",
            "max": 3213,
            "min": 0,
            "orientation": "horizontal",
            "style": "IPY_MODEL_8afb8e16034942b1a7b5aabf69353fd0",
            "value": 3213
          }
        },
        "211b7a9b28b844cd8d5e4a9876189fd9": {
          "model_module": "@jupyter-widgets/controls",
          "model_name": "HTMLModel",
          "model_module_version": "1.5.0",
          "state": {
            "_dom_classes": [],
            "_model_module": "@jupyter-widgets/controls",
            "_model_module_version": "1.5.0",
            "_model_name": "HTMLModel",
            "_view_count": null,
            "_view_module": "@jupyter-widgets/controls",
            "_view_module_version": "1.5.0",
            "_view_name": "HTMLView",
            "description": "",
            "description_tooltip": null,
            "layout": "IPY_MODEL_238f07b08a654d58a750d4454a5a96ee",
            "placeholder": "​",
            "style": "IPY_MODEL_9c6a57ffe1154ea0a90992728019c446",
            "value": " 3.21k/3.21k [00:00&lt;00:00, 371kB/s]"
          }
        },
        "3fa8da79b4bb4d178a4da3647049ea24": {
          "model_module": "@jupyter-widgets/base",
          "model_name": "LayoutModel",
          "model_module_version": "1.2.0",
          "state": {
            "_model_module": "@jupyter-widgets/base",
            "_model_module_version": "1.2.0",
            "_model_name": "LayoutModel",
            "_view_count": null,
            "_view_module": "@jupyter-widgets/base",
            "_view_module_version": "1.2.0",
            "_view_name": "LayoutView",
            "align_content": null,
            "align_items": null,
            "align_self": null,
            "border": null,
            "bottom": null,
            "display": null,
            "flex": null,
            "flex_flow": null,
            "grid_area": null,
            "grid_auto_columns": null,
            "grid_auto_flow": null,
            "grid_auto_rows": null,
            "grid_column": null,
            "grid_gap": null,
            "grid_row": null,
            "grid_template_areas": null,
            "grid_template_columns": null,
            "grid_template_rows": null,
            "height": null,
            "justify_content": null,
            "justify_items": null,
            "left": null,
            "margin": null,
            "max_height": null,
            "max_width": null,
            "min_height": null,
            "min_width": null,
            "object_fit": null,
            "object_position": null,
            "order": null,
            "overflow": null,
            "overflow_x": null,
            "overflow_y": null,
            "padding": null,
            "right": null,
            "top": null,
            "visibility": null,
            "width": null
          }
        },
        "3e95b9e2256c41c899cfcbff1a7cfd2f": {
          "model_module": "@jupyter-widgets/base",
          "model_name": "LayoutModel",
          "model_module_version": "1.2.0",
          "state": {
            "_model_module": "@jupyter-widgets/base",
            "_model_module_version": "1.2.0",
            "_model_name": "LayoutModel",
            "_view_count": null,
            "_view_module": "@jupyter-widgets/base",
            "_view_module_version": "1.2.0",
            "_view_name": "LayoutView",
            "align_content": null,
            "align_items": null,
            "align_self": null,
            "border": null,
            "bottom": null,
            "display": null,
            "flex": null,
            "flex_flow": null,
            "grid_area": null,
            "grid_auto_columns": null,
            "grid_auto_flow": null,
            "grid_auto_rows": null,
            "grid_column": null,
            "grid_gap": null,
            "grid_row": null,
            "grid_template_areas": null,
            "grid_template_columns": null,
            "grid_template_rows": null,
            "height": null,
            "justify_content": null,
            "justify_items": null,
            "left": null,
            "margin": null,
            "max_height": null,
            "max_width": null,
            "min_height": null,
            "min_width": null,
            "object_fit": null,
            "object_position": null,
            "order": null,
            "overflow": null,
            "overflow_x": null,
            "overflow_y": null,
            "padding": null,
            "right": null,
            "top": null,
            "visibility": null,
            "width": null
          }
        },
        "7edcd4351edc4160bef12dc649f104d5": {
          "model_module": "@jupyter-widgets/controls",
          "model_name": "DescriptionStyleModel",
          "model_module_version": "1.5.0",
          "state": {
            "_model_module": "@jupyter-widgets/controls",
            "_model_module_version": "1.5.0",
            "_model_name": "DescriptionStyleModel",
            "_view_count": null,
            "_view_module": "@jupyter-widgets/base",
            "_view_module_version": "1.2.0",
            "_view_name": "StyleView",
            "description_width": ""
          }
        },
        "574edabc9465404fb42570d3acff570a": {
          "model_module": "@jupyter-widgets/base",
          "model_name": "LayoutModel",
          "model_module_version": "1.2.0",
          "state": {
            "_model_module": "@jupyter-widgets/base",
            "_model_module_version": "1.2.0",
            "_model_name": "LayoutModel",
            "_view_count": null,
            "_view_module": "@jupyter-widgets/base",
            "_view_module_version": "1.2.0",
            "_view_name": "LayoutView",
            "align_content": null,
            "align_items": null,
            "align_self": null,
            "border": null,
            "bottom": null,
            "display": null,
            "flex": null,
            "flex_flow": null,
            "grid_area": null,
            "grid_auto_columns": null,
            "grid_auto_flow": null,
            "grid_auto_rows": null,
            "grid_column": null,
            "grid_gap": null,
            "grid_row": null,
            "grid_template_areas": null,
            "grid_template_columns": null,
            "grid_template_rows": null,
            "height": null,
            "justify_content": null,
            "justify_items": null,
            "left": null,
            "margin": null,
            "max_height": null,
            "max_width": null,
            "min_height": null,
            "min_width": null,
            "object_fit": null,
            "object_position": null,
            "order": null,
            "overflow": null,
            "overflow_x": null,
            "overflow_y": null,
            "padding": null,
            "right": null,
            "top": null,
            "visibility": null,
            "width": null
          }
        },
        "8afb8e16034942b1a7b5aabf69353fd0": {
          "model_module": "@jupyter-widgets/controls",
          "model_name": "ProgressStyleModel",
          "model_module_version": "1.5.0",
          "state": {
            "_model_module": "@jupyter-widgets/controls",
            "_model_module_version": "1.5.0",
            "_model_name": "ProgressStyleModel",
            "_view_count": null,
            "_view_module": "@jupyter-widgets/base",
            "_view_module_version": "1.2.0",
            "_view_name": "StyleView",
            "bar_color": null,
            "description_width": ""
          }
        },
        "238f07b08a654d58a750d4454a5a96ee": {
          "model_module": "@jupyter-widgets/base",
          "model_name": "LayoutModel",
          "model_module_version": "1.2.0",
          "state": {
            "_model_module": "@jupyter-widgets/base",
            "_model_module_version": "1.2.0",
            "_model_name": "LayoutModel",
            "_view_count": null,
            "_view_module": "@jupyter-widgets/base",
            "_view_module_version": "1.2.0",
            "_view_name": "LayoutView",
            "align_content": null,
            "align_items": null,
            "align_self": null,
            "border": null,
            "bottom": null,
            "display": null,
            "flex": null,
            "flex_flow": null,
            "grid_area": null,
            "grid_auto_columns": null,
            "grid_auto_flow": null,
            "grid_auto_rows": null,
            "grid_column": null,
            "grid_gap": null,
            "grid_row": null,
            "grid_template_areas": null,
            "grid_template_columns": null,
            "grid_template_rows": null,
            "height": null,
            "justify_content": null,
            "justify_items": null,
            "left": null,
            "margin": null,
            "max_height": null,
            "max_width": null,
            "min_height": null,
            "min_width": null,
            "object_fit": null,
            "object_position": null,
            "order": null,
            "overflow": null,
            "overflow_x": null,
            "overflow_y": null,
            "padding": null,
            "right": null,
            "top": null,
            "visibility": null,
            "width": null
          }
        },
        "9c6a57ffe1154ea0a90992728019c446": {
          "model_module": "@jupyter-widgets/controls",
          "model_name": "DescriptionStyleModel",
          "model_module_version": "1.5.0",
          "state": {
            "_model_module": "@jupyter-widgets/controls",
            "_model_module_version": "1.5.0",
            "_model_name": "DescriptionStyleModel",
            "_view_count": null,
            "_view_module": "@jupyter-widgets/base",
            "_view_module_version": "1.2.0",
            "_view_name": "StyleView",
            "description_width": ""
          }
        },
        "ca7208a458ec4fb594dfd40cfd1d546f": {
          "model_module": "@jupyter-widgets/controls",
          "model_name": "HBoxModel",
          "model_module_version": "1.5.0",
          "state": {
            "_dom_classes": [],
            "_model_module": "@jupyter-widgets/controls",
            "_model_module_version": "1.5.0",
            "_model_name": "HBoxModel",
            "_view_count": null,
            "_view_module": "@jupyter-widgets/controls",
            "_view_module_version": "1.5.0",
            "_view_name": "HBoxView",
            "box_style": "",
            "children": [
              "IPY_MODEL_a2cae9f6002547f7b52350496dae96f6",
              "IPY_MODEL_e3ef876f22c0432fbb022198861a1563",
              "IPY_MODEL_aa52d7d6faf44d418e80b8ec6506046e"
            ],
            "layout": "IPY_MODEL_daa5ccaa20f84dd09478596c411a26be"
          }
        },
        "a2cae9f6002547f7b52350496dae96f6": {
          "model_module": "@jupyter-widgets/controls",
          "model_name": "HTMLModel",
          "model_module_version": "1.5.0",
          "state": {
            "_dom_classes": [],
            "_model_module": "@jupyter-widgets/controls",
            "_model_module_version": "1.5.0",
            "_model_name": "HTMLModel",
            "_view_count": null,
            "_view_module": "@jupyter-widgets/controls",
            "_view_module_version": "1.5.0",
            "_view_name": "HTMLView",
            "description": "",
            "description_tooltip": null,
            "layout": "IPY_MODEL_468447ab830f4461be304d897e91ef2c",
            "placeholder": "​",
            "style": "IPY_MODEL_cee7d32a58bd4809be7a9fb0e8c8f6a0",
            "value": "special_tokens_map.json: 100%"
          }
        },
        "e3ef876f22c0432fbb022198861a1563": {
          "model_module": "@jupyter-widgets/controls",
          "model_name": "FloatProgressModel",
          "model_module_version": "1.5.0",
          "state": {
            "_dom_classes": [],
            "_model_module": "@jupyter-widgets/controls",
            "_model_module_version": "1.5.0",
            "_model_name": "FloatProgressModel",
            "_view_count": null,
            "_view_module": "@jupyter-widgets/controls",
            "_view_module_version": "1.5.0",
            "_view_name": "ProgressView",
            "bar_style": "success",
            "description": "",
            "description_tooltip": null,
            "layout": "IPY_MODEL_7fcb968d4af9491f8c4667ef5a355b5d",
            "max": 150,
            "min": 0,
            "orientation": "horizontal",
            "style": "IPY_MODEL_3f8aa7360ae24fd09fd4d5105c765063",
            "value": 150
          }
        },
        "aa52d7d6faf44d418e80b8ec6506046e": {
          "model_module": "@jupyter-widgets/controls",
          "model_name": "HTMLModel",
          "model_module_version": "1.5.0",
          "state": {
            "_dom_classes": [],
            "_model_module": "@jupyter-widgets/controls",
            "_model_module_version": "1.5.0",
            "_model_name": "HTMLModel",
            "_view_count": null,
            "_view_module": "@jupyter-widgets/controls",
            "_view_module_version": "1.5.0",
            "_view_name": "HTMLView",
            "description": "",
            "description_tooltip": null,
            "layout": "IPY_MODEL_211b32b62f734f82892dc0c3e63fbb3b",
            "placeholder": "​",
            "style": "IPY_MODEL_41f2eafc5d0843688be5287abf2e108e",
            "value": " 150/150 [00:00&lt;00:00, 16.9kB/s]"
          }
        },
        "daa5ccaa20f84dd09478596c411a26be": {
          "model_module": "@jupyter-widgets/base",
          "model_name": "LayoutModel",
          "model_module_version": "1.2.0",
          "state": {
            "_model_module": "@jupyter-widgets/base",
            "_model_module_version": "1.2.0",
            "_model_name": "LayoutModel",
            "_view_count": null,
            "_view_module": "@jupyter-widgets/base",
            "_view_module_version": "1.2.0",
            "_view_name": "LayoutView",
            "align_content": null,
            "align_items": null,
            "align_self": null,
            "border": null,
            "bottom": null,
            "display": null,
            "flex": null,
            "flex_flow": null,
            "grid_area": null,
            "grid_auto_columns": null,
            "grid_auto_flow": null,
            "grid_auto_rows": null,
            "grid_column": null,
            "grid_gap": null,
            "grid_row": null,
            "grid_template_areas": null,
            "grid_template_columns": null,
            "grid_template_rows": null,
            "height": null,
            "justify_content": null,
            "justify_items": null,
            "left": null,
            "margin": null,
            "max_height": null,
            "max_width": null,
            "min_height": null,
            "min_width": null,
            "object_fit": null,
            "object_position": null,
            "order": null,
            "overflow": null,
            "overflow_x": null,
            "overflow_y": null,
            "padding": null,
            "right": null,
            "top": null,
            "visibility": null,
            "width": null
          }
        },
        "468447ab830f4461be304d897e91ef2c": {
          "model_module": "@jupyter-widgets/base",
          "model_name": "LayoutModel",
          "model_module_version": "1.2.0",
          "state": {
            "_model_module": "@jupyter-widgets/base",
            "_model_module_version": "1.2.0",
            "_model_name": "LayoutModel",
            "_view_count": null,
            "_view_module": "@jupyter-widgets/base",
            "_view_module_version": "1.2.0",
            "_view_name": "LayoutView",
            "align_content": null,
            "align_items": null,
            "align_self": null,
            "border": null,
            "bottom": null,
            "display": null,
            "flex": null,
            "flex_flow": null,
            "grid_area": null,
            "grid_auto_columns": null,
            "grid_auto_flow": null,
            "grid_auto_rows": null,
            "grid_column": null,
            "grid_gap": null,
            "grid_row": null,
            "grid_template_areas": null,
            "grid_template_columns": null,
            "grid_template_rows": null,
            "height": null,
            "justify_content": null,
            "justify_items": null,
            "left": null,
            "margin": null,
            "max_height": null,
            "max_width": null,
            "min_height": null,
            "min_width": null,
            "object_fit": null,
            "object_position": null,
            "order": null,
            "overflow": null,
            "overflow_x": null,
            "overflow_y": null,
            "padding": null,
            "right": null,
            "top": null,
            "visibility": null,
            "width": null
          }
        },
        "cee7d32a58bd4809be7a9fb0e8c8f6a0": {
          "model_module": "@jupyter-widgets/controls",
          "model_name": "DescriptionStyleModel",
          "model_module_version": "1.5.0",
          "state": {
            "_model_module": "@jupyter-widgets/controls",
            "_model_module_version": "1.5.0",
            "_model_name": "DescriptionStyleModel",
            "_view_count": null,
            "_view_module": "@jupyter-widgets/base",
            "_view_module_version": "1.2.0",
            "_view_name": "StyleView",
            "description_width": ""
          }
        },
        "7fcb968d4af9491f8c4667ef5a355b5d": {
          "model_module": "@jupyter-widgets/base",
          "model_name": "LayoutModel",
          "model_module_version": "1.2.0",
          "state": {
            "_model_module": "@jupyter-widgets/base",
            "_model_module_version": "1.2.0",
            "_model_name": "LayoutModel",
            "_view_count": null,
            "_view_module": "@jupyter-widgets/base",
            "_view_module_version": "1.2.0",
            "_view_name": "LayoutView",
            "align_content": null,
            "align_items": null,
            "align_self": null,
            "border": null,
            "bottom": null,
            "display": null,
            "flex": null,
            "flex_flow": null,
            "grid_area": null,
            "grid_auto_columns": null,
            "grid_auto_flow": null,
            "grid_auto_rows": null,
            "grid_column": null,
            "grid_gap": null,
            "grid_row": null,
            "grid_template_areas": null,
            "grid_template_columns": null,
            "grid_template_rows": null,
            "height": null,
            "justify_content": null,
            "justify_items": null,
            "left": null,
            "margin": null,
            "max_height": null,
            "max_width": null,
            "min_height": null,
            "min_width": null,
            "object_fit": null,
            "object_position": null,
            "order": null,
            "overflow": null,
            "overflow_x": null,
            "overflow_y": null,
            "padding": null,
            "right": null,
            "top": null,
            "visibility": null,
            "width": null
          }
        },
        "3f8aa7360ae24fd09fd4d5105c765063": {
          "model_module": "@jupyter-widgets/controls",
          "model_name": "ProgressStyleModel",
          "model_module_version": "1.5.0",
          "state": {
            "_model_module": "@jupyter-widgets/controls",
            "_model_module_version": "1.5.0",
            "_model_name": "ProgressStyleModel",
            "_view_count": null,
            "_view_module": "@jupyter-widgets/base",
            "_view_module_version": "1.2.0",
            "_view_name": "StyleView",
            "bar_color": null,
            "description_width": ""
          }
        },
        "211b32b62f734f82892dc0c3e63fbb3b": {
          "model_module": "@jupyter-widgets/base",
          "model_name": "LayoutModel",
          "model_module_version": "1.2.0",
          "state": {
            "_model_module": "@jupyter-widgets/base",
            "_model_module_version": "1.2.0",
            "_model_name": "LayoutModel",
            "_view_count": null,
            "_view_module": "@jupyter-widgets/base",
            "_view_module_version": "1.2.0",
            "_view_name": "LayoutView",
            "align_content": null,
            "align_items": null,
            "align_self": null,
            "border": null,
            "bottom": null,
            "display": null,
            "flex": null,
            "flex_flow": null,
            "grid_area": null,
            "grid_auto_columns": null,
            "grid_auto_flow": null,
            "grid_auto_rows": null,
            "grid_column": null,
            "grid_gap": null,
            "grid_row": null,
            "grid_template_areas": null,
            "grid_template_columns": null,
            "grid_template_rows": null,
            "height": null,
            "justify_content": null,
            "justify_items": null,
            "left": null,
            "margin": null,
            "max_height": null,
            "max_width": null,
            "min_height": null,
            "min_width": null,
            "object_fit": null,
            "object_position": null,
            "order": null,
            "overflow": null,
            "overflow_x": null,
            "overflow_y": null,
            "padding": null,
            "right": null,
            "top": null,
            "visibility": null,
            "width": null
          }
        },
        "41f2eafc5d0843688be5287abf2e108e": {
          "model_module": "@jupyter-widgets/controls",
          "model_name": "DescriptionStyleModel",
          "model_module_version": "1.5.0",
          "state": {
            "_model_module": "@jupyter-widgets/controls",
            "_model_module_version": "1.5.0",
            "_model_name": "DescriptionStyleModel",
            "_view_count": null,
            "_view_module": "@jupyter-widgets/base",
            "_view_module_version": "1.2.0",
            "_view_name": "StyleView",
            "description_width": ""
          }
        },
        "a3725ce8b9834a6a8c0a49e38e486237": {
          "model_module": "@jupyter-widgets/controls",
          "model_name": "HBoxModel",
          "model_module_version": "1.5.0",
          "state": {
            "_dom_classes": [],
            "_model_module": "@jupyter-widgets/controls",
            "_model_module_version": "1.5.0",
            "_model_name": "HBoxModel",
            "_view_count": null,
            "_view_module": "@jupyter-widgets/controls",
            "_view_module_version": "1.5.0",
            "_view_name": "HBoxView",
            "box_style": "",
            "children": [
              "IPY_MODEL_4abb96e4e63b41ae8cb00b0ddcd2d9e1",
              "IPY_MODEL_b07ade1a3bdb4960976d6614ba491c76",
              "IPY_MODEL_1f4b542b4a2f44da9c3b4e0b99304f71"
            ],
            "layout": "IPY_MODEL_b6cd50773c654fea8d7e7b74ece684ff"
          }
        },
        "4abb96e4e63b41ae8cb00b0ddcd2d9e1": {
          "model_module": "@jupyter-widgets/controls",
          "model_name": "HTMLModel",
          "model_module_version": "1.5.0",
          "state": {
            "_dom_classes": [],
            "_model_module": "@jupyter-widgets/controls",
            "_model_module_version": "1.5.0",
            "_model_name": "HTMLModel",
            "_view_count": null,
            "_view_module": "@jupyter-widgets/controls",
            "_view_module_version": "1.5.0",
            "_view_name": "HTMLView",
            "description": "",
            "description_tooltip": null,
            "layout": "IPY_MODEL_c90b0b7d0bad47fb87ff2f704a991bf4",
            "placeholder": "​",
            "style": "IPY_MODEL_a7fd3d5d870349b1a420f1c342f7abc1",
            "value": "pytorch_model.bin: 100%"
          }
        },
        "b07ade1a3bdb4960976d6614ba491c76": {
          "model_module": "@jupyter-widgets/controls",
          "model_name": "FloatProgressModel",
          "model_module_version": "1.5.0",
          "state": {
            "_dom_classes": [],
            "_model_module": "@jupyter-widgets/controls",
            "_model_module_version": "1.5.0",
            "_model_name": "FloatProgressModel",
            "_view_count": null,
            "_view_module": "@jupyter-widgets/controls",
            "_view_module_version": "1.5.0",
            "_view_name": "ProgressView",
            "bar_style": "success",
            "description": "",
            "description_tooltip": null,
            "layout": "IPY_MODEL_c566aec4bf21425c95b3e70b4481c641",
            "max": 178812144,
            "min": 0,
            "orientation": "horizontal",
            "style": "IPY_MODEL_5f4b872d20d34c449070b6302e421eb0",
            "value": 178812144
          }
        },
        "1f4b542b4a2f44da9c3b4e0b99304f71": {
          "model_module": "@jupyter-widgets/controls",
          "model_name": "HTMLModel",
          "model_module_version": "1.5.0",
          "state": {
            "_dom_classes": [],
            "_model_module": "@jupyter-widgets/controls",
            "_model_module_version": "1.5.0",
            "_model_name": "HTMLModel",
            "_view_count": null,
            "_view_module": "@jupyter-widgets/controls",
            "_view_module_version": "1.5.0",
            "_view_name": "HTMLView",
            "description": "",
            "description_tooltip": null,
            "layout": "IPY_MODEL_9dd497e7593948a1a5952ca69b8b2061",
            "placeholder": "​",
            "style": "IPY_MODEL_716eb765e04944eeb73e7faddd638cbd",
            "value": " 179M/179M [00:02&lt;00:00, 87.1MB/s]"
          }
        },
        "b6cd50773c654fea8d7e7b74ece684ff": {
          "model_module": "@jupyter-widgets/base",
          "model_name": "LayoutModel",
          "model_module_version": "1.2.0",
          "state": {
            "_model_module": "@jupyter-widgets/base",
            "_model_module_version": "1.2.0",
            "_model_name": "LayoutModel",
            "_view_count": null,
            "_view_module": "@jupyter-widgets/base",
            "_view_module_version": "1.2.0",
            "_view_name": "LayoutView",
            "align_content": null,
            "align_items": null,
            "align_self": null,
            "border": null,
            "bottom": null,
            "display": null,
            "flex": null,
            "flex_flow": null,
            "grid_area": null,
            "grid_auto_columns": null,
            "grid_auto_flow": null,
            "grid_auto_rows": null,
            "grid_column": null,
            "grid_gap": null,
            "grid_row": null,
            "grid_template_areas": null,
            "grid_template_columns": null,
            "grid_template_rows": null,
            "height": null,
            "justify_content": null,
            "justify_items": null,
            "left": null,
            "margin": null,
            "max_height": null,
            "max_width": null,
            "min_height": null,
            "min_width": null,
            "object_fit": null,
            "object_position": null,
            "order": null,
            "overflow": null,
            "overflow_x": null,
            "overflow_y": null,
            "padding": null,
            "right": null,
            "top": null,
            "visibility": null,
            "width": null
          }
        },
        "c90b0b7d0bad47fb87ff2f704a991bf4": {
          "model_module": "@jupyter-widgets/base",
          "model_name": "LayoutModel",
          "model_module_version": "1.2.0",
          "state": {
            "_model_module": "@jupyter-widgets/base",
            "_model_module_version": "1.2.0",
            "_model_name": "LayoutModel",
            "_view_count": null,
            "_view_module": "@jupyter-widgets/base",
            "_view_module_version": "1.2.0",
            "_view_name": "LayoutView",
            "align_content": null,
            "align_items": null,
            "align_self": null,
            "border": null,
            "bottom": null,
            "display": null,
            "flex": null,
            "flex_flow": null,
            "grid_area": null,
            "grid_auto_columns": null,
            "grid_auto_flow": null,
            "grid_auto_rows": null,
            "grid_column": null,
            "grid_gap": null,
            "grid_row": null,
            "grid_template_areas": null,
            "grid_template_columns": null,
            "grid_template_rows": null,
            "height": null,
            "justify_content": null,
            "justify_items": null,
            "left": null,
            "margin": null,
            "max_height": null,
            "max_width": null,
            "min_height": null,
            "min_width": null,
            "object_fit": null,
            "object_position": null,
            "order": null,
            "overflow": null,
            "overflow_x": null,
            "overflow_y": null,
            "padding": null,
            "right": null,
            "top": null,
            "visibility": null,
            "width": null
          }
        },
        "a7fd3d5d870349b1a420f1c342f7abc1": {
          "model_module": "@jupyter-widgets/controls",
          "model_name": "DescriptionStyleModel",
          "model_module_version": "1.5.0",
          "state": {
            "_model_module": "@jupyter-widgets/controls",
            "_model_module_version": "1.5.0",
            "_model_name": "DescriptionStyleModel",
            "_view_count": null,
            "_view_module": "@jupyter-widgets/base",
            "_view_module_version": "1.2.0",
            "_view_name": "StyleView",
            "description_width": ""
          }
        },
        "c566aec4bf21425c95b3e70b4481c641": {
          "model_module": "@jupyter-widgets/base",
          "model_name": "LayoutModel",
          "model_module_version": "1.2.0",
          "state": {
            "_model_module": "@jupyter-widgets/base",
            "_model_module_version": "1.2.0",
            "_model_name": "LayoutModel",
            "_view_count": null,
            "_view_module": "@jupyter-widgets/base",
            "_view_module_version": "1.2.0",
            "_view_name": "LayoutView",
            "align_content": null,
            "align_items": null,
            "align_self": null,
            "border": null,
            "bottom": null,
            "display": null,
            "flex": null,
            "flex_flow": null,
            "grid_area": null,
            "grid_auto_columns": null,
            "grid_auto_flow": null,
            "grid_auto_rows": null,
            "grid_column": null,
            "grid_gap": null,
            "grid_row": null,
            "grid_template_areas": null,
            "grid_template_columns": null,
            "grid_template_rows": null,
            "height": null,
            "justify_content": null,
            "justify_items": null,
            "left": null,
            "margin": null,
            "max_height": null,
            "max_width": null,
            "min_height": null,
            "min_width": null,
            "object_fit": null,
            "object_position": null,
            "order": null,
            "overflow": null,
            "overflow_x": null,
            "overflow_y": null,
            "padding": null,
            "right": null,
            "top": null,
            "visibility": null,
            "width": null
          }
        },
        "5f4b872d20d34c449070b6302e421eb0": {
          "model_module": "@jupyter-widgets/controls",
          "model_name": "ProgressStyleModel",
          "model_module_version": "1.5.0",
          "state": {
            "_model_module": "@jupyter-widgets/controls",
            "_model_module_version": "1.5.0",
            "_model_name": "ProgressStyleModel",
            "_view_count": null,
            "_view_module": "@jupyter-widgets/base",
            "_view_module_version": "1.2.0",
            "_view_name": "StyleView",
            "bar_color": null,
            "description_width": ""
          }
        },
        "9dd497e7593948a1a5952ca69b8b2061": {
          "model_module": "@jupyter-widgets/base",
          "model_name": "LayoutModel",
          "model_module_version": "1.2.0",
          "state": {
            "_model_module": "@jupyter-widgets/base",
            "_model_module_version": "1.2.0",
            "_model_name": "LayoutModel",
            "_view_count": null,
            "_view_module": "@jupyter-widgets/base",
            "_view_module_version": "1.2.0",
            "_view_name": "LayoutView",
            "align_content": null,
            "align_items": null,
            "align_self": null,
            "border": null,
            "bottom": null,
            "display": null,
            "flex": null,
            "flex_flow": null,
            "grid_area": null,
            "grid_auto_columns": null,
            "grid_auto_flow": null,
            "grid_auto_rows": null,
            "grid_column": null,
            "grid_gap": null,
            "grid_row": null,
            "grid_template_areas": null,
            "grid_template_columns": null,
            "grid_template_rows": null,
            "height": null,
            "justify_content": null,
            "justify_items": null,
            "left": null,
            "margin": null,
            "max_height": null,
            "max_width": null,
            "min_height": null,
            "min_width": null,
            "object_fit": null,
            "object_position": null,
            "order": null,
            "overflow": null,
            "overflow_x": null,
            "overflow_y": null,
            "padding": null,
            "right": null,
            "top": null,
            "visibility": null,
            "width": null
          }
        },
        "716eb765e04944eeb73e7faddd638cbd": {
          "model_module": "@jupyter-widgets/controls",
          "model_name": "DescriptionStyleModel",
          "model_module_version": "1.5.0",
          "state": {
            "_model_module": "@jupyter-widgets/controls",
            "_model_module_version": "1.5.0",
            "_model_name": "DescriptionStyleModel",
            "_view_count": null,
            "_view_module": "@jupyter-widgets/base",
            "_view_module_version": "1.2.0",
            "_view_name": "StyleView",
            "description_width": ""
          }
        }
      }
    }
  },
  "cells": [
    {
      "cell_type": "markdown",
      "metadata": {
        "id": "view-in-github",
        "colab_type": "text"
      },
      "source": [
        "<a href=\"https://colab.research.google.com/github/Bengiawilliam/solubility-prediction-using-ChemBERTa/blob/main/model_training.ipynb\" target=\"_parent\"><img src=\"https://colab.research.google.com/assets/colab-badge.svg\" alt=\"Open In Colab\"/></a>"
      ]
    },
    {
      "cell_type": "markdown",
      "source": [
        "# Predicting Molecular Solubility with **ChemBERTa**"
      ],
      "metadata": {
        "id": "NfQAn0_jCwBy"
      }
    },
    {
      "cell_type": "markdown",
      "source": [
        "# This notebook demonstrates how to fine-tune a ChemBERTa model to predict the solubility of molecules given their SMILES strings.\n",
        "# We will use the `transformers` library from Hugging Face and PyTorch."
      ],
      "metadata": {
        "id": "kPvXr67EC1yS"
      }
    },
    {
      "cell_type": "markdown",
      "source": [
        "# ## 1. Install Necessary Libraries"
      ],
      "metadata": {
        "id": "b_esBFehC8eB"
      }
    },
    {
      "cell_type": "code",
      "source": [
        "!pip install transformers torch scikit-learn pandas numpy matplotlib"
      ],
      "metadata": {
        "id": "MlK4nt3NDBxi"
      },
      "execution_count": 1,
      "outputs": []
    },
    {
      "cell_type": "markdown",
      "source": [
        "# ## 2. Import Libraries"
      ],
      "metadata": {
        "id": "cQ8NF7ToDN2N"
      }
    },
    {
      "cell_type": "code",
      "source": [
        "import pandas as pd\n",
        "import numpy as np\n",
        "from sklearn.model_selection import train_test_split\n",
        "from sklearn.metrics import mean_squared_error, r2_score\n",
        "import torch\n",
        "from torch.utils.data import Dataset, DataLoader\n",
        "from transformers import AutoTokenizer, AutoModel, get_linear_schedule_with_warmup\n",
        "from torch.optim import AdamW\n",
        "import matplotlib.pyplot as plt"
      ],
      "metadata": {
        "id": "YeD6wdvvDTrW"
      },
      "execution_count": null,
      "outputs": []
    },
    {
      "cell_type": "markdown",
      "source": [
        "# ## 3. Load and Inspect Data\n",
        "#\n",
        "# We'll load the `curated-solubility-dataset.csv` file. Make sure this file is in the same directory as your notebook, or provide the correct path."
      ],
      "metadata": {
        "id": "q508D78BDZpJ"
      }
    },
    {
      "cell_type": "code",
      "source": [
        "df = pd.read_csv('curated-solubility-dataset.csv')"
      ],
      "metadata": {
        "id": "-5_ADs0iDjvm"
      },
      "execution_count": 2,
      "outputs": []
    },
    {
      "cell_type": "code",
      "source": [
        "print(\"Dataset head:\")\n",
        "print(df.head())\n",
        "print(\"\\nDataset info:\")\n",
        "df.info()\n"
      ],
      "metadata": {
        "colab": {
          "base_uri": "https://localhost:8080/"
        },
        "id": "UgS2eWDQDsju",
        "outputId": "a60f993e-8e00-4cdf-fc3f-e0aa340e5bae"
      },
      "execution_count": 3,
      "outputs": [
        {
          "output_type": "stream",
          "name": "stdout",
          "text": [
            "Dataset head:\n",
            "    ID                                               Name  \\\n",
            "0  A-3         N,N,N-trimethyloctadecan-1-aminium bromide   \n",
            "1  A-4                           Benzo[cd]indol-2(1H)-one   \n",
            "2  A-5                               4-chlorobenzaldehyde   \n",
            "3  A-8  zinc bis[2-hydroxy-3,5-bis(1-phenylethyl)benzo...   \n",
            "4  A-9  4-({4-[bis(oxiran-2-ylmethyl)amino]phenyl}meth...   \n",
            "\n",
            "                                               InChI  \\\n",
            "0  InChI=1S/C21H46N.BrH/c1-5-6-7-8-9-10-11-12-13-...   \n",
            "1  InChI=1S/C11H7NO/c13-11-8-5-1-3-7-4-2-6-9(12-1...   \n",
            "2        InChI=1S/C7H5ClO/c8-7-3-1-6(5-9)2-4-7/h1-5H   \n",
            "3  InChI=1S/2C23H22O3.Zn/c2*1-15(17-9-5-3-6-10-17...   \n",
            "4  InChI=1S/C25H30N2O4/c1-5-20(26(10-22-14-28-22)...   \n",
            "\n",
            "                      InChIKey  \\\n",
            "0  SZEMGTQCPRNXEG-UHFFFAOYSA-M   \n",
            "1  GPYLCFQEKPUWLD-UHFFFAOYSA-N   \n",
            "2  AVPYQKSLYISFPO-UHFFFAOYSA-N   \n",
            "3  XTUPUYCJWKHGSW-UHFFFAOYSA-L   \n",
            "4  FAUAZXVRLVIARB-UHFFFAOYSA-N   \n",
            "\n",
            "                                              SMILES  Solubility   SD  \\\n",
            "0                [Br-].CCCCCCCCCCCCCCCCCC[N+](C)(C)C   -3.616127  0.0   \n",
            "1                               O=C1Nc2cccc3cccc1c23   -3.254767  0.0   \n",
            "2                                    Clc1ccc(C=O)cc1   -2.177078  0.0   \n",
            "3  [Zn++].CC(c1ccccc1)c2cc(C(C)c3ccccc3)c(O)c(c2)...   -3.924409  0.0   \n",
            "4  C1OC1CN(CC2CO2)c3ccc(Cc4ccc(cc4)N(CC5CO5)CC6CO...   -4.662065  0.0   \n",
            "\n",
            "   Ocurrences Group    MolWt  ...  NumRotatableBonds  NumValenceElectrons  \\\n",
            "0           1    G1  392.510  ...               17.0                142.0   \n",
            "1           1    G1  169.183  ...                0.0                 62.0   \n",
            "2           1    G1  140.569  ...                1.0                 46.0   \n",
            "3           1    G1  756.226  ...               10.0                264.0   \n",
            "4           1    G1  422.525  ...               12.0                164.0   \n",
            "\n",
            "   NumAromaticRings  NumSaturatedRings  NumAliphaticRings  RingCount    TPSA  \\\n",
            "0               0.0                0.0                0.0        0.0    0.00   \n",
            "1               2.0                0.0                1.0        3.0   29.10   \n",
            "2               1.0                0.0                0.0        1.0   17.07   \n",
            "3               6.0                0.0                0.0        6.0  120.72   \n",
            "4               2.0                4.0                4.0        6.0   56.60   \n",
            "\n",
            "    LabuteASA      BalabanJ      BertzCT  \n",
            "0  158.520601  0.000000e+00   210.377334  \n",
            "1   75.183563  2.582996e+00   511.229248  \n",
            "2   58.261134  3.009782e+00   202.661065  \n",
            "3  323.755434  2.322963e-07  1964.648666  \n",
            "4  183.183268  1.084427e+00   769.899934  \n",
            "\n",
            "[5 rows x 26 columns]\n",
            "\n",
            "Dataset info:\n",
            "<class 'pandas.core.frame.DataFrame'>\n",
            "RangeIndex: 9982 entries, 0 to 9981\n",
            "Data columns (total 26 columns):\n",
            " #   Column               Non-Null Count  Dtype  \n",
            "---  ------               --------------  -----  \n",
            " 0   ID                   9982 non-null   object \n",
            " 1   Name                 9982 non-null   object \n",
            " 2   InChI                9982 non-null   object \n",
            " 3   InChIKey             9982 non-null   object \n",
            " 4   SMILES               9982 non-null   object \n",
            " 5   Solubility           9982 non-null   float64\n",
            " 6   SD                   9982 non-null   float64\n",
            " 7   Ocurrences           9982 non-null   int64  \n",
            " 8   Group                9982 non-null   object \n",
            " 9   MolWt                9982 non-null   float64\n",
            " 10  MolLogP              9982 non-null   float64\n",
            " 11  MolMR                9982 non-null   float64\n",
            " 12  HeavyAtomCount       9982 non-null   float64\n",
            " 13  NumHAcceptors        9982 non-null   float64\n",
            " 14  NumHDonors           9982 non-null   float64\n",
            " 15  NumHeteroatoms       9982 non-null   float64\n",
            " 16  NumRotatableBonds    9982 non-null   float64\n",
            " 17  NumValenceElectrons  9982 non-null   float64\n",
            " 18  NumAromaticRings     9982 non-null   float64\n",
            " 19  NumSaturatedRings    9982 non-null   float64\n",
            " 20  NumAliphaticRings    9982 non-null   float64\n",
            " 21  RingCount            9982 non-null   float64\n",
            " 22  TPSA                 9982 non-null   float64\n",
            " 23  LabuteASA            9982 non-null   float64\n",
            " 24  BalabanJ             9982 non-null   float64\n",
            " 25  BertzCT              9982 non-null   float64\n",
            "dtypes: float64(19), int64(1), object(6)\n",
            "memory usage: 2.0+ MB\n"
          ]
        }
      ]
    },
    {
      "cell_type": "markdown",
      "source": [
        "# ## 4. Data Preprocessing"
      ],
      "metadata": {
        "id": "LFpG2s8GDwBH"
      }
    },
    {
      "cell_type": "markdown",
      "source": [
        "# We need to:\n",
        "# 1.  Select relevant columns (SMILES and Solubility).\n",
        "# 2.  Handle any missing values (though our initial check showed none for these columns).\n",
        "# 3.  Split the data into training and validation sets.\n"
      ],
      "metadata": {
        "id": "shkaX6SeDzZ9"
      }
    },
    {
      "cell_type": "code",
      "source": [
        "df_processed = df[['SMILES', 'Solubility']].copy()"
      ],
      "metadata": {
        "id": "zMeNtofYD5hW"
      },
      "execution_count": 4,
      "outputs": []
    },
    {
      "cell_type": "code",
      "source": [
        "df_processed.dropna(subset=['SMILES', 'Solubility'], inplace=True)"
      ],
      "metadata": {
        "id": "qUZhD_dLD7Iu"
      },
      "execution_count": 5,
      "outputs": []
    },
    {
      "cell_type": "code",
      "source": [
        "# For demonstration purposes, let's use a smaller subset of the data to speed up training.\n",
        "# You can comment this out to use the full dataset.\n",
        "# df_processed = df_processed.sample(n=2000, random_state=42)\n",
        "# print(f\"\\nUsing a subset of {len(df_processed)} samples for faster processing.\")\n",
        "\n",
        "\n",
        "# Split data\n",
        "train_df, val_df = train_test_split(df_processed, test_size=0.2, random_state=42)"
      ],
      "metadata": {
        "id": "BuznnfnWEBEO"
      },
      "execution_count": 6,
      "outputs": []
    },
    {
      "cell_type": "code",
      "source": [
        "print(f\"\\nTraining set size: {len(train_df)}\")\n",
        "print(f\"Validation set size: {len(val_df)}\")\n"
      ],
      "metadata": {
        "colab": {
          "base_uri": "https://localhost:8080/"
        },
        "id": "o3jVRyFfEGbi",
        "outputId": "e193aae6-fe63-424f-bb0f-6878346c1ee8"
      },
      "execution_count": 7,
      "outputs": [
        {
          "output_type": "stream",
          "name": "stdout",
          "text": [
            "\n",
            "Training set size: 7985\n",
            "Validation set size: 1997\n"
          ]
        }
      ]
    },
    {
      "cell_type": "markdown",
      "source": [
        "# ## 5. ChemBERTa Tokenizer and Model Setup"
      ],
      "metadata": {
        "id": "igcFMG2rEISL"
      }
    },
    {
      "cell_type": "markdown",
      "source": [
        "# We'll use a pre-trained ChemBERTa model. `seyonec/ChemBERTa-zinc-base-v1` is a common choice."
      ],
      "metadata": {
        "id": "c-Tz9K5IELXE"
      }
    },
    {
      "cell_type": "code",
      "source": [
        "MODEL_NAME = \"seyonec/ChemBERTa-zinc-base-v1\" # You can try others like \"DeepChem/ChemBERTa-77M-MTR\""
      ],
      "metadata": {
        "id": "jB9np709EP8c"
      },
      "execution_count": 8,
      "outputs": []
    },
    {
      "cell_type": "code",
      "source": [
        "try:\n",
        "    tokenizer = AutoTokenizer.from_pretrained(MODEL_NAME)\n",
        "except Exception as e:\n",
        "    print(f\"Error loading tokenizer: {e}\")\n",
        "    print(\"Please ensure you have an internet connection and the model name is correct.\")\n",
        "    # Fallback or stop execution if tokenizer can't be loaded.\n",
        "    # For now, let's assume it loads. If not, the subsequent cells will fail."
      ],
      "metadata": {
        "colab": {
          "base_uri": "https://localhost:8080/",
          "height": 301,
          "referenced_widgets": [
            "6435636dec0446b2a6d0229409ba4841",
            "142e215e53e748f397e3952fbf7a784a",
            "a7b6b37396d846da911ccee9f117f5bf",
            "7831093f49b445cb81ee70e6f6b80bb1",
            "1ecc0d8c59344219b6d6137a1b2ce6f4",
            "caa5a8816c3942699fdb368fcc134589",
            "56bdb6b1ed5b4bef8dc5158c8e3d0149",
            "785bcc4fdaea4fe6a2908ec52f5fb27b",
            "047d928399f2467aa7841cbc35dc6f58",
            "0500df72e3eb485d9d03415493483d1e",
            "f757db0bd97a47e287bdcf6ce608b9c5",
            "663e1e93e9b14519be12852c34868c4e",
            "5a9068b8b14541669738e08c0f8ffa82",
            "23c27f328ccf42e0a2d5328bb7adc857",
            "a3ec48f30bdc4102833ab249ec7196fc",
            "2435e46a050b4706a38485ea824316f1",
            "485623bcdb9246d5a04d615821643b33",
            "bfce685371824f49ac56184fb6de1545",
            "33a73fe926134f1cb363c45a051ae8ff",
            "c896c993a73844c7954cdd0b6553e73b",
            "8d51e8d81b814121a61133c25d1c9dd1",
            "6ce31020f1d54dfb9301d051659ba591",
            "e3ee05d1496c4732ab4827f98c103316",
            "0c30a5e74eb041fbb6dc1a3ba203053a",
            "b796d20a8e134db9a5f583bb79f69ae9",
            "8c16d5ed45ce48cbbaab9fdbc2cf1212",
            "0d6fd13901d44ebebd7a6fe3f8b049aa",
            "e28af90c43b0469d8ab3e89626d63926",
            "5c4d81b0ec914b96a4b1446431ba76af",
            "7f7fd7d841554c6b9838cc691f701557",
            "f77545a64b3f4936aff5081b5355fabb",
            "5476a438d7404fddafe13ee9a8bcfebe",
            "bd2485e6140848d080b51ab75575754d",
            "3689c839a88c41aaa60aa9ec09183737",
            "2364f3e00c4d4aa7a6c606b40cad9df0",
            "c3d4168a20e942b69474ce4dff91ab2e",
            "211b7a9b28b844cd8d5e4a9876189fd9",
            "3fa8da79b4bb4d178a4da3647049ea24",
            "3e95b9e2256c41c899cfcbff1a7cfd2f",
            "7edcd4351edc4160bef12dc649f104d5",
            "574edabc9465404fb42570d3acff570a",
            "8afb8e16034942b1a7b5aabf69353fd0",
            "238f07b08a654d58a750d4454a5a96ee",
            "9c6a57ffe1154ea0a90992728019c446",
            "ca7208a458ec4fb594dfd40cfd1d546f",
            "a2cae9f6002547f7b52350496dae96f6",
            "e3ef876f22c0432fbb022198861a1563",
            "aa52d7d6faf44d418e80b8ec6506046e",
            "daa5ccaa20f84dd09478596c411a26be",
            "468447ab830f4461be304d897e91ef2c",
            "cee7d32a58bd4809be7a9fb0e8c8f6a0",
            "7fcb968d4af9491f8c4667ef5a355b5d",
            "3f8aa7360ae24fd09fd4d5105c765063",
            "211b32b62f734f82892dc0c3e63fbb3b",
            "41f2eafc5d0843688be5287abf2e108e"
          ]
        },
        "id": "5X6k88jEESey",
        "outputId": "1cc6419c-e77f-4114-fc59-3d219df3164f"
      },
      "execution_count": 9,
      "outputs": [
        {
          "output_type": "stream",
          "name": "stderr",
          "text": [
            "/usr/local/lib/python3.11/dist-packages/huggingface_hub/utils/_auth.py:94: UserWarning: \n",
            "The secret `HF_TOKEN` does not exist in your Colab secrets.\n",
            "To authenticate with the Hugging Face Hub, create a token in your settings tab (https://huggingface.co/settings/tokens), set it as secret in your Google Colab and restart your session.\n",
            "You will be able to reuse this secret in all of your notebooks.\n",
            "Please note that authentication is recommended but still optional to access public models or datasets.\n",
            "  warnings.warn(\n"
          ]
        },
        {
          "output_type": "display_data",
          "data": {
            "text/plain": [
              "tokenizer_config.json:   0%|          | 0.00/166 [00:00<?, ?B/s]"
            ],
            "application/vnd.jupyter.widget-view+json": {
              "version_major": 2,
              "version_minor": 0,
              "model_id": "6435636dec0446b2a6d0229409ba4841"
            }
          },
          "metadata": {}
        },
        {
          "output_type": "display_data",
          "data": {
            "text/plain": [
              "config.json:   0%|          | 0.00/501 [00:00<?, ?B/s]"
            ],
            "application/vnd.jupyter.widget-view+json": {
              "version_major": 2,
              "version_minor": 0,
              "model_id": "663e1e93e9b14519be12852c34868c4e"
            }
          },
          "metadata": {}
        },
        {
          "output_type": "display_data",
          "data": {
            "text/plain": [
              "vocab.json:   0%|          | 0.00/9.43k [00:00<?, ?B/s]"
            ],
            "application/vnd.jupyter.widget-view+json": {
              "version_major": 2,
              "version_minor": 0,
              "model_id": "e3ee05d1496c4732ab4827f98c103316"
            }
          },
          "metadata": {}
        },
        {
          "output_type": "display_data",
          "data": {
            "text/plain": [
              "merges.txt:   0%|          | 0.00/3.21k [00:00<?, ?B/s]"
            ],
            "application/vnd.jupyter.widget-view+json": {
              "version_major": 2,
              "version_minor": 0,
              "model_id": "3689c839a88c41aaa60aa9ec09183737"
            }
          },
          "metadata": {}
        },
        {
          "output_type": "display_data",
          "data": {
            "text/plain": [
              "special_tokens_map.json:   0%|          | 0.00/150 [00:00<?, ?B/s]"
            ],
            "application/vnd.jupyter.widget-view+json": {
              "version_major": 2,
              "version_minor": 0,
              "model_id": "ca7208a458ec4fb594dfd40cfd1d546f"
            }
          },
          "metadata": {}
        }
      ]
    },
    {
      "cell_type": "markdown",
      "source": [
        "# ## 6. Create PyTorch Datasets"
      ],
      "metadata": {
        "id": "ofus4JiXEYaw"
      }
    },
    {
      "cell_type": "markdown",
      "source": [
        "\n",
        "# We need a custom Dataset class to handle tokenization."
      ],
      "metadata": {
        "id": "0s0CEpk1EmxA"
      }
    },
    {
      "cell_type": "code",
      "source": [
        "class SolubilityDataset(Dataset):\n",
        "    def __init__(self, smiles_list, targets, tokenizer, max_length=128):\n",
        "        self.smiles_list = smiles_list\n",
        "        self.targets = targets\n",
        "        self.tokenizer = tokenizer\n",
        "        self.max_length = max_length\n",
        "\n",
        "    def __len__(self):\n",
        "        return len(self.smiles_list)\n",
        "\n",
        "    def __getitem__(self, idx):\n",
        "        smiles = str(self.smiles_list[idx])\n",
        "        target = float(self.targets[idx])\n",
        "\n",
        "        encoding = self.tokenizer.encode_plus(\n",
        "            smiles,\n",
        "            add_special_tokens=True,\n",
        "            max_length=self.max_length,\n",
        "            return_token_type_ids=False,\n",
        "            padding='max_length',\n",
        "            truncation=True,\n",
        "            return_attention_mask=True,\n",
        "            return_tensors='pt',\n",
        "        )\n",
        "\n",
        "        return {\n",
        "            'input_ids': encoding['input_ids'].flatten(),\n",
        "            'attention_mask': encoding['attention_mask'].flatten(),\n",
        "            'targets': torch.tensor(target, dtype=torch.float)\n",
        "        }\n",
        "\n",
        "# Create datasets\n",
        "if 'tokenizer' in globals(): # Proceed only if tokenizer was loaded\n",
        "    train_dataset = SolubilityDataset(\n",
        "        train_df['SMILES'].tolist(),\n",
        "        train_df['Solubility'].tolist(),\n",
        "        tokenizer\n",
        "    )\n",
        "    val_dataset = SolubilityDataset(\n",
        "        val_df['SMILES'].tolist(),\n",
        "        val_df['Solubility'].tolist(),\n",
        "        tokenizer\n",
        "    )\n",
        "else:\n",
        "    print(\"Tokenizer not loaded. Cannot create datasets.\")\n"
      ],
      "metadata": {
        "id": "cSYRItj1Ep3N"
      },
      "execution_count": 10,
      "outputs": []
    },
    {
      "cell_type": "markdown",
      "source": [
        "# ## 7. Define the Regression Model"
      ],
      "metadata": {
        "id": "ELgEGl_uEuN-"
      }
    },
    {
      "cell_type": "markdown",
      "source": [
        "# We'll add a regression head (a simple linear layer) on top of the ChemBERTa base model."
      ],
      "metadata": {
        "id": "7VdVu-STEwCU"
      }
    },
    {
      "cell_type": "code",
      "source": [
        "class ChemBERTaRegressor(torch.nn.Module):\n",
        "    def __init__(self, model_name=MODEL_NAME):\n",
        "        super(ChemBERTaRegressor, self).__init__()\n",
        "        self.bert = AutoModel.from_pretrained(model_name)\n",
        "        # The regressor will take the [CLS] token's embedding as input\n",
        "        self.regressor = torch.nn.Linear(self.bert.config.hidden_size, 1)\n",
        "\n",
        "    def forward(self, input_ids, attention_mask):\n",
        "        outputs = self.bert(input_ids=input_ids, attention_mask=attention_mask)\n",
        "        # Use the embedding of the [CLS] token (pooler_output)\n",
        "        pooled_output = outputs.pooler_output\n",
        "        return self.regressor(pooled_output)\n",
        "\n",
        "if 'tokenizer' in globals(): # Proceed only if tokenizer was loaded\n",
        "    model = ChemBERTaRegressor()\n",
        "else:\n",
        "    print(\"Tokenizer not loaded. Cannot create model.\")\n"
      ],
      "metadata": {
        "colab": {
          "base_uri": "https://localhost:8080/",
          "height": 49,
          "referenced_widgets": [
            "a3725ce8b9834a6a8c0a49e38e486237",
            "4abb96e4e63b41ae8cb00b0ddcd2d9e1",
            "b07ade1a3bdb4960976d6614ba491c76",
            "1f4b542b4a2f44da9c3b4e0b99304f71",
            "b6cd50773c654fea8d7e7b74ece684ff",
            "c90b0b7d0bad47fb87ff2f704a991bf4",
            "a7fd3d5d870349b1a420f1c342f7abc1",
            "c566aec4bf21425c95b3e70b4481c641",
            "5f4b872d20d34c449070b6302e421eb0",
            "9dd497e7593948a1a5952ca69b8b2061",
            "716eb765e04944eeb73e7faddd638cbd"
          ]
        },
        "id": "uynZgVAEEz0M",
        "outputId": "8b3575c6-ab58-4ecc-c561-4e8a0f85e0f8"
      },
      "execution_count": 11,
      "outputs": [
        {
          "output_type": "display_data",
          "data": {
            "text/plain": [
              "pytorch_model.bin:   0%|          | 0.00/179M [00:00<?, ?B/s]"
            ],
            "application/vnd.jupyter.widget-view+json": {
              "version_major": 2,
              "version_minor": 0,
              "model_id": "a3725ce8b9834a6a8c0a49e38e486237"
            }
          },
          "metadata": {}
        }
      ]
    },
    {
      "cell_type": "markdown",
      "source": [
        "# ## 8. Training Setup"
      ],
      "metadata": {
        "id": "lvqqPb9ME2xY"
      }
    },
    {
      "cell_type": "markdown",
      "source": [
        "# Define hyperparameters, DataLoaders, optimizer, and scheduler."
      ],
      "metadata": {
        "id": "AtrCtGEiE4T_"
      }
    },
    {
      "cell_type": "code",
      "source": [
        "BATCH_SIZE = 16 # Adjust based on your GPU memory. Reduce if you get OOM errors.\n",
        "EPOCHS = 5      # Increase for better performance, but longer training.\n",
        "LEARNING_RATE = 2e-5\n",
        "MAX_LEN = 128   # Max length for SMILES tokenization\n",
        "\n",
        "if 'train_dataset' in globals() and 'val_dataset' in globals(): # Proceed if datasets exist\n",
        "    train_dataloader = DataLoader(train_dataset, batch_size=BATCH_SIZE, shuffle=True)\n",
        "    val_dataloader = DataLoader(val_dataset, batch_size=BATCH_SIZE)\n",
        "else:\n",
        "    print(\"Datasets not created. Cannot create DataLoaders.\")\n",
        "\n",
        "# Optimizer and Scheduler\n",
        "if 'model' in globals(): # Proceed if model exists\n",
        "    optimizer = AdamW(model.parameters(), lr=LEARNING_RATE)\n",
        "    total_steps = len(train_dataloader) * EPOCHS\n",
        "    scheduler = get_linear_schedule_with_warmup(\n",
        "        optimizer,\n",
        "        num_warmup_steps=0, # Default, you can adjust\n",
        "        num_training_steps=total_steps\n",
        "    )\n",
        "else:\n",
        "    print(\"Model not created. Cannot setup optimizer/scheduler.\")\n",
        "\n",
        "\n",
        "# Loss function\n",
        "loss_fn = torch.nn.MSELoss()\n",
        "\n",
        "# Device\n",
        "device = torch.device(\"cuda\" if torch.cuda.is_available() else \"cpu\")\n",
        "if 'model' in globals():\n",
        "    model.to(device)\n",
        "print(f\"Using device: {device}\")\n",
        "\n"
      ],
      "metadata": {
        "colab": {
          "base_uri": "https://localhost:8080/"
        },
        "id": "_Ju0wH7GE9PE",
        "outputId": "46f47bf5-88ac-46f3-de7b-991afbfa4f16"
      },
      "execution_count": 12,
      "outputs": [
        {
          "output_type": "stream",
          "name": "stdout",
          "text": [
            "Using device: cuda\n"
          ]
        }
      ]
    },
    {
      "cell_type": "markdown",
      "source": [
        "# ## 9. Training and Validation Loop"
      ],
      "metadata": {
        "id": "SLJBtHFVFEbU"
      }
    },
    {
      "cell_type": "code",
      "source": [
        "def train_epoch(model, data_loader, loss_fn, optimizer, device, scheduler):\n",
        "    model.train()\n",
        "    total_loss = 0\n",
        "    for batch in data_loader:\n",
        "        input_ids = batch['input_ids'].to(device)\n",
        "        attention_mask = batch['attention_mask'].to(device)\n",
        "        targets = batch['targets'].to(device)\n",
        "\n",
        "        outputs = model(input_ids=input_ids, attention_mask=attention_mask)\n",
        "        loss = loss_fn(outputs.squeeze(), targets)\n",
        "\n",
        "        total_loss += loss.item()\n",
        "\n",
        "        loss.backward()\n",
        "        torch.nn.utils.clip_grad_norm_(model.parameters(), max_norm=1.0) # Gradient clipping\n",
        "        optimizer.step()\n",
        "        scheduler.step()\n",
        "        optimizer.zero_grad()\n",
        "\n",
        "    return total_loss / len(data_loader)\n",
        "\n",
        "def eval_model(model, data_loader, loss_fn, device):\n",
        "    model.eval()\n",
        "    total_loss = 0\n",
        "    all_targets = []\n",
        "    all_predictions = []\n",
        "\n",
        "    with torch.no_grad():\n",
        "        for batch in data_loader:\n",
        "            input_ids = batch['input_ids'].to(device)\n",
        "            attention_mask = batch['attention_mask'].to(device)\n",
        "            targets = batch['targets'].to(device)\n",
        "\n",
        "            outputs = model(input_ids=input_ids, attention_mask=attention_mask)\n",
        "            loss = loss_fn(outputs.squeeze(), targets)\n",
        "            total_loss += loss.item()\n",
        "\n",
        "            all_targets.extend(targets.cpu().numpy())\n",
        "            all_predictions.extend(outputs.squeeze().cpu().numpy())\n",
        "\n",
        "    avg_loss = total_loss / len(data_loader)\n",
        "    rmse = np.sqrt(mean_squared_error(all_targets, all_predictions))\n",
        "    r2 = r2_score(all_targets, all_predictions)\n",
        "    return avg_loss, rmse, r2, all_targets, all_predictions\n"
      ],
      "metadata": {
        "id": "ZyJrZgZXFIQT"
      },
      "execution_count": 13,
      "outputs": []
    },
    {
      "cell_type": "markdown",
      "source": [
        "# ### Start Training"
      ],
      "metadata": {
        "id": "SkzJQOezFMaX"
      }
    },
    {
      "cell_type": "markdown",
      "source": [
        "# **Note:** This part can take a while, especially without a GPU or with a large dataset/many epochs."
      ],
      "metadata": {
        "id": "i2HSgWG-FNYK"
      }
    },
    {
      "cell_type": "code",
      "source": [
        "history = {'train_loss': [], 'val_loss': [], 'val_rmse': [], 'val_r2': []}\n",
        "\n",
        "if 'model' in globals() and 'train_dataloader' in globals() and 'val_dataloader' in globals():\n",
        "    for epoch in range(EPOCHS):\n",
        "        print(f\"Epoch {epoch + 1}/{EPOCHS}\")\n",
        "        print(\"-\" * 10)\n",
        "\n",
        "        train_loss = train_epoch(\n",
        "            model,\n",
        "            train_dataloader,\n",
        "            loss_fn,\n",
        "            optimizer,\n",
        "            device,\n",
        "            scheduler\n",
        "        )\n",
        "        print(f\"Train Loss: {train_loss:.4f}\")\n",
        "        history['train_loss'].append(train_loss)\n",
        "\n",
        "        val_loss, val_rmse, val_r2, _, _ = eval_model(\n",
        "            model,\n",
        "            val_dataloader,\n",
        "            loss_fn,\n",
        "            device\n",
        "        )\n",
        "        print(f\"Val Loss: {val_loss:.4f}, Val RMSE: {val_rmse:.4f}, Val R2: {val_r2:.4f}\")\n",
        "        history['val_loss'].append(val_loss)\n",
        "        history['val_rmse'].append(val_rmse)\n",
        "        history['val_r2'].append(val_r2)\n",
        "    print(\"Training complete!\")\n",
        "else:\n",
        "    print(\"Skipping training due to missing model or dataloaders.\")\n"
      ],
      "metadata": {
        "colab": {
          "base_uri": "https://localhost:8080/"
        },
        "id": "Jd0eqLLPFQ67",
        "outputId": "32330052-97e6-4d40-9e1d-54016817c7da"
      },
      "execution_count": 14,
      "outputs": [
        {
          "output_type": "stream",
          "name": "stdout",
          "text": [
            "Epoch 1/5\n",
            "----------\n"
          ]
        },
        {
          "output_type": "stream",
          "name": "stderr",
          "text": [
            "/usr/local/lib/python3.11/dist-packages/torch/nn/modules/loss.py:610: UserWarning: Using a target size (torch.Size([1])) that is different to the input size (torch.Size([])). This will likely lead to incorrect results due to broadcasting. Please ensure they have the same size.\n",
            "  return F.mse_loss(input, target, reduction=self.reduction)\n"
          ]
        },
        {
          "output_type": "stream",
          "name": "stdout",
          "text": [
            "Train Loss: 2.6026\n",
            "Val Loss: 1.6106, Val RMSE: 1.2693, Val R2: 0.7030\n",
            "Epoch 2/5\n",
            "----------\n"
          ]
        },
        {
          "output_type": "stream",
          "name": "stderr",
          "text": [
            "/usr/local/lib/python3.11/dist-packages/torch/nn/modules/loss.py:610: UserWarning: Using a target size (torch.Size([1])) that is different to the input size (torch.Size([])). This will likely lead to incorrect results due to broadcasting. Please ensure they have the same size.\n",
            "  return F.mse_loss(input, target, reduction=self.reduction)\n"
          ]
        },
        {
          "output_type": "stream",
          "name": "stdout",
          "text": [
            "Train Loss: 1.4589\n",
            "Val Loss: 1.3446, Val RMSE: 1.1597, Val R2: 0.7521\n",
            "Epoch 3/5\n",
            "----------\n"
          ]
        },
        {
          "output_type": "stream",
          "name": "stderr",
          "text": [
            "/usr/local/lib/python3.11/dist-packages/torch/nn/modules/loss.py:610: UserWarning: Using a target size (torch.Size([1])) that is different to the input size (torch.Size([])). This will likely lead to incorrect results due to broadcasting. Please ensure they have the same size.\n",
            "  return F.mse_loss(input, target, reduction=self.reduction)\n"
          ]
        },
        {
          "output_type": "stream",
          "name": "stdout",
          "text": [
            "Train Loss: 1.1412\n",
            "Val Loss: 1.2401, Val RMSE: 1.1137, Val R2: 0.7714\n",
            "Epoch 4/5\n",
            "----------\n"
          ]
        },
        {
          "output_type": "stream",
          "name": "stderr",
          "text": [
            "/usr/local/lib/python3.11/dist-packages/torch/nn/modules/loss.py:610: UserWarning: Using a target size (torch.Size([1])) that is different to the input size (torch.Size([])). This will likely lead to incorrect results due to broadcasting. Please ensure they have the same size.\n",
            "  return F.mse_loss(input, target, reduction=self.reduction)\n"
          ]
        },
        {
          "output_type": "stream",
          "name": "stdout",
          "text": [
            "Train Loss: 0.9243\n",
            "Val Loss: 1.2158, Val RMSE: 1.1026, Val R2: 0.7759\n",
            "Epoch 5/5\n",
            "----------\n"
          ]
        },
        {
          "output_type": "stream",
          "name": "stderr",
          "text": [
            "/usr/local/lib/python3.11/dist-packages/torch/nn/modules/loss.py:610: UserWarning: Using a target size (torch.Size([1])) that is different to the input size (torch.Size([])). This will likely lead to incorrect results due to broadcasting. Please ensure they have the same size.\n",
            "  return F.mse_loss(input, target, reduction=self.reduction)\n"
          ]
        },
        {
          "output_type": "stream",
          "name": "stdout",
          "text": [
            "Train Loss: 0.7977\n",
            "Val Loss: 1.2139, Val RMSE: 1.1020, Val R2: 0.7762\n",
            "Training complete!\n"
          ]
        }
      ]
    },
    {
      "cell_type": "markdown",
      "source": [
        "# ## 10. Plot Training History"
      ],
      "metadata": {
        "id": "kAqxh9DPFTf2"
      }
    },
    {
      "cell_type": "code",
      "source": [
        "if history['train_loss']: # Check if training was run\n",
        "    plt.figure(figsize=(12, 4))\n",
        "    plt.subplot(1, 2, 1)\n",
        "    plt.plot(history['train_loss'], label='Train Loss')\n",
        "    plt.plot(history['val_loss'], label='Val Loss')\n",
        "    plt.xlabel('Epoch')\n",
        "    plt.ylabel('Loss (MSE)')\n",
        "    plt.legend()\n",
        "    plt.title('Loss vs. Epochs')\n",
        "\n",
        "    plt.subplot(1, 2, 2)\n",
        "    plt.plot(history['val_rmse'], label='Validation RMSE')\n",
        "    plt.xlabel('Epoch')\n",
        "    plt.ylabel('RMSE')\n",
        "    plt.legend()\n",
        "    plt.title('Validation RMSE vs. Epochs')\n",
        "    plt.tight_layout()\n",
        "    plt.show()\n",
        "\n",
        "    plt.figure(figsize=(6, 4))\n",
        "    plt.plot(history['val_r2'], label='Validation R2 Score')\n",
        "    plt.xlabel('Epoch')\n",
        "    plt.ylabel('R2 Score')\n",
        "    plt.legend()\n",
        "    plt.title('Validation R2 Score vs. Epochs')\n",
        "    plt.show()\n",
        "\n"
      ],
      "metadata": {
        "colab": {
          "base_uri": "https://localhost:8080/",
          "height": 727
        },
        "id": "K4zsKmzXFXgI",
        "outputId": "e6fb62cb-2e5c-48de-bca3-26061826b457"
      },
      "execution_count": 15,
      "outputs": [
        {
          "output_type": "display_data",
          "data": {
            "text/plain": [
              "<Figure size 1200x400 with 2 Axes>"
            ],
            "image/png": "[encoded data removed]"
          },
          "metadata": {}
        },
        {
          "output_type": "display_data",
          "data": {
            "text/plain": [
              "<Figure size 600x400 with 1 Axes>"
            ],
            "image/png": "[encoded data removed]"
          },
          "metadata": {}
        }
      ]
    },
    {
      "cell_type": "markdown",
      "source": [
        "# ## 11. Evaluate on the Validation Set (Final)"
      ],
      "metadata": {
        "id": "Ee-5Pdi-Fe60"
      }
    },
    {
      "cell_type": "markdown",
      "source": [
        "# Let's get the final predictions and plot them against actual values."
      ],
      "metadata": {
        "id": "JjAF-_hcFgOT"
      }
    },
    {
      "cell_type": "code",
      "source": [
        "if 'model' in globals() and 'val_dataloader' in globals():\n",
        "    avg_loss, rmse, r2, true_values, predictions = eval_model(model, val_dataloader, loss_fn, device)\n",
        "    print(f\"\\nFinal Validation Metrics:\")\n",
        "    print(f\"  MSE: {avg_loss:.4f}\")\n",
        "    print(f\"  RMSE: {rmse:.4f}\")\n",
        "    print(f\"  R2 Score: {r2:.4f}\")\n",
        "\n",
        "    # Scatter plot of True vs. Predicted values\n",
        "    plt.figure(figsize=(8, 8))\n",
        "    plt.scatter(true_values, predictions, alpha=0.5)\n",
        "    plt.xlabel(\"True Solubility (logS)\")\n",
        "    plt.ylabel(\"Predicted Solubility (logS)\")\n",
        "    plt.title(\"True vs. Predicted Solubility on Validation Set\")\n",
        "    # Add a line y=x for reference\n",
        "    min_val = min(min(true_values), min(predictions))\n",
        "    max_val = max(max(true_values), max(predictions))\n",
        "    plt.plot([min_val, max_val], [min_val, max_val], 'k--')\n",
        "    plt.grid(True)\n",
        "    plt.show()\n",
        "else:\n",
        "    print(\"Skipping final evaluation due to missing model or dataloaders.\")\n",
        "\n"
      ],
      "metadata": {
        "colab": {
          "base_uri": "https://localhost:8080/",
          "height": 805
        },
        "id": "r0G6DMizFi-M",
        "outputId": "43b068be-658e-4f89-c892-47393f6f8d86"
      },
      "execution_count": 16,
      "outputs": [
        {
          "output_type": "stream",
          "name": "stdout",
          "text": [
            "\n",
            "Final Validation Metrics:\n",
            "  MSE: 1.2139\n",
            "  RMSE: 1.1020\n",
            "  R2 Score: 0.7762\n"
          ]
        },
        {
          "output_type": "display_data",
          "data": {
            "text/plain": [
              "<Figure size 800x800 with 1 Axes>"
            ],
            "image/png": "[encoded data removed]"
          },
          "metadata": {}
        }
      ]
    },
    {
      "cell_type": "markdown",
      "source": [
        "# ## 12. Create a Prediction Function"
      ],
      "metadata": {
        "id": "U4t_0405FmXH"
      }
    },
    {
      "cell_type": "markdown",
      "source": [
        "# This function will take a SMILES string and return the predicted solubility."
      ],
      "metadata": {
        "id": "ADnvufEiFnaA"
      }
    },
    {
      "cell_type": "code",
      "source": [
        "def predict_solubility(smiles_string, model, tokenizer, device, max_length=MAX_LEN):\n",
        "    \"\"\"\n",
        "    Predicts solubility for a single SMILES string.\n",
        "    \"\"\"\n",
        "    if 'model' not in globals() or 'tokenizer' not in globals():\n",
        "        print(\"Model or tokenizer not available for prediction.\")\n",
        "        return None\n",
        "\n",
        "    model.eval() # Ensure model is in evaluation mode\n",
        "\n",
        "    encoding = tokenizer.encode_plus(\n",
        "        smiles_string,\n",
        "        add_special_tokens=True,\n",
        "        max_length=max_length,\n",
        "        return_token_type_ids=False,\n",
        "        padding='max_length',\n",
        "        truncation=True,\n",
        "        return_attention_mask=True,\n",
        "        return_tensors='pt',\n",
        "    )\n",
        "\n",
        "    input_ids = encoding['input_ids'].to(device)\n",
        "    attention_mask = encoding['attention_mask'].to(device)\n",
        "\n",
        "    with torch.no_grad():\n",
        "        prediction = model(input_ids=input_ids, attention_mask=attention_mask)\n",
        "\n",
        "    return prediction.item()\n"
      ],
      "metadata": {
        "id": "ye7gWNSfFrXB"
      },
      "execution_count": 17,
      "outputs": []
    },
    {
      "cell_type": "markdown",
      "source": [
        "# ### Test the Prediction Function"
      ],
      "metadata": {
        "id": "hGOqdHZxFvt-"
      }
    },
    {
      "cell_type": "code",
      "source": [
        "if 'model' in globals() and 'tokenizer' in globals():\n",
        "    # Example SMILES strings (you can replace these)\n",
        "    example_smiles_1 = \"CCO\"  # Ethanol\n",
        "    example_smiles_2 = \"c1ccccc1C(=O)O\"  # Benzoic acid\n",
        "    example_smiles_3 = \"CC(=O)Oc1ccccc1C(=O)OH\" # Aspirin (from our dummy data example)\n",
        "\n",
        "    predicted_sol_1 = predict_solubility(example_smiles_1, model, tokenizer, device)\n",
        "    predicted_sol_2 = predict_solubility(example_smiles_2, model, tokenizer, device)\n",
        "    predicted_sol_3 = predict_solubility(example_smiles_3, model, tokenizer, device)\n",
        "\n",
        "    print(f\"\\nPredicted solubility for {example_smiles_1}: {predicted_sol_1:.4f} logS\" if predicted_sol_1 is not None else \"\")\n",
        "    print(f\"Predicted solubility for {example_smiles_2}: {predicted_sol_2:.4f} logS\" if predicted_sol_2 is not None else \"\")\n",
        "    print(f\"Predicted solubility for {example_smiles_3}: {predicted_sol_3:.4f} logS\" if predicted_sol_3 is not None else \"\")\n",
        "\n",
        "    # You can also try a SMILES from your validation set to compare\n",
        "    if len(val_df) > 0:\n",
        "        sample_val_smiles = val_df.iloc[0]['SMILES']\n",
        "        sample_val_actual_sol = val_df.iloc[0]['Solubility']\n",
        "        predicted_sol_val = predict_solubility(sample_val_smiles, model, tokenizer, device)\n",
        "        print(f\"\\nExample from validation set:\")\n",
        "        print(f\"SMILES: {sample_val_smiles}\")\n",
        "        print(f\"Actual Solubility: {sample_val_actual_sol:.4f} logS\")\n",
        "        print(f\"Predicted Solubility: {predicted_sol_val:.4f} logS\" if predicted_sol_val is not None else \"\")\n",
        "else:\n",
        "    print(\"Cannot test prediction function as model/tokenizer is not loaded/trained.\")\n"
      ],
      "metadata": {
        "colab": {
          "base_uri": "https://localhost:8080/"
        },
        "id": "lysJ9MVVF90n",
        "outputId": "042bda77-919a-412c-e2f0-aed20f19638a"
      },
      "execution_count": 18,
      "outputs": [
        {
          "output_type": "stream",
          "name": "stdout",
          "text": [
            "\n",
            "Predicted solubility for CCO: 0.9371 logS\n",
            "Predicted solubility for c1ccccc1C(=O)O: -1.5086 logS\n",
            "Predicted solubility for CC(=O)Oc1ccccc1C(=O)OH: -2.7316 logS\n",
            "\n",
            "Example from validation set:\n",
            "SMILES: CCc1ccc2C(=O)c3ccccc3C(=O)c2c1\n",
            "Actual Solubility: -5.9842 logS\n",
            "Predicted Solubility: -6.2416 logS\n"
          ]
        }
      ]
    },
    {
      "cell_type": "markdown",
      "source": [
        "# ## 13. Save the Fine-tuned Model (Optional)"
      ],
      "metadata": {
        "id": "h7R6cTVlGDvN"
      }
    },
    {
      "cell_type": "markdown",
      "source": [
        "# Define path to save the model"
      ],
      "metadata": {
        "id": "tymOk6LVGKQH"
      }
    },
    {
      "cell_type": "code",
      "source": [
        "OUTPUT_MODEL_PATH = \"./chemberta_solubility_predictor\""
      ],
      "metadata": {
        "id": "GR6NzwS2GJFA"
      },
      "execution_count": 19,
      "outputs": []
    },
    {
      "cell_type": "code",
      "source": [
        "if 'model' in globals() and history['train_loss']: # Only save if trained\n",
        "   # Create directory if it doesn't exist\n",
        "   import os\n",
        "   if not os.path.exists(OUTPUT_MODEL_PATH):\n",
        "       os.makedirs(OUTPUT_MODEL_PATH)\n",
        "\n",
        "   # Save the model's state_dict\n",
        "   torch.save(model.state_dict(), os.path.join(OUTPUT_MODEL_PATH, \"pytorch_model.bin\"))\n",
        "   # Save the tokenizer\n",
        "   tokenizer.save_pretrained(OUTPUT_MODEL_PATH)\n",
        "   print(f\"Model and tokenizer saved to {OUTPUT_MODEL_PATH}\")\n",
        "\n",
        "   # To load the model later:\n",
        "   # model_loaded = ChemBERTaRegressor() # Initialize with the correct class\n",
        "   # model_loaded.load_state_dict(torch.load(os.path.join(OUTPUT_MODEL_PATH, \"pytorch_model.bin\")))\n",
        "   # tokenizer_loaded = AutoTokenizer.from_pretrained(OUTPUT_MODEL_PATH)\n",
        "   # model_loaded.to(device)\n",
        "   # print(\"Model reloaded successfully.\")\n",
        "\n",
        "else:\n",
        "   print(\"Model not trained or available, skipping save.\")\n"
      ],
      "metadata": {
        "colab": {
          "base_uri": "https://localhost:8080/"
        },
        "id": "Zg4nWMZtGN3H",
        "outputId": "83465d7a-9a97-48a2-8a6f-32e73e288388"
      },
      "execution_count": 20,
      "outputs": [
        {
          "output_type": "stream",
          "name": "stdout",
          "text": [
            "Model and tokenizer saved to ./chemberta_solubility_predictor\n"
          ]
        }
      ]
    },
    {
      "cell_type": "markdown",
      "source": [
        "# ---\n",
        "# End of Notebook. You can now use the `predict_solubility` function with your trained model.\n",
        "# Remember that the quality of predictions depends heavily on the training data, model architecture, hyperparameters, and training duration.\n",
        "# For production use, more extensive training, hyperparameter tuning, and cross-validation are recommended.\n",
        "# ---"
      ],
      "metadata": {
        "id": "MBwOZW8aGWrr"
      }
    },
    {
      "cell_type": "markdown",
      "source": [
        "# **# ## Predict for a Custom SMILES Input**"
      ],
      "metadata": {
        "id": "VD166AUkGjHN"
      }
    },
    {
      "cell_type": "markdown",
      "source": [
        "skip to next section if you trained your model in the current evironment"
      ],
      "metadata": {
        "id": "v-47k6ueG8AD"
      }
    },
    {
      "cell_type": "code",
      "source": [
        "\n",
        "# Your custom SMILES string\n",
        "#custom_smiles = \"Cc1ccccc1N\"  # Example: N-methylaniline\n",
        "\n",
        "# If you just trained, use 'model', 'tokenizer', and 'device'\n",
        "# If you loaded them, use 'loaded_model', 'loaded_tokenizer', and 'current_device' (or whatever you named them)\n",
        "\n",
        "# Make sure to replace 'model', 'tokenizer', 'device' with your actual variable names if they are different\n",
        "# (e.g., if you loaded them as loaded_model, loaded_tokenizer, current_device)\n",
        "\n",
        "# Assuming you just trained, the variables would be:\n",
        "# model_to_predict_with = model\n",
        "# tokenizer_for_prediction = tokenizer\n",
        "# device_for_prediction = device\n",
        "# MAX_LEN_for_prediction = MAX_LEN # Ensure this is the same MAX_LEN used during training/dataset creation\n",
        "\n",
        "# If you loaded the model, they would be:\n",
        "# model_to_predict_with = loaded_model\n",
        "# tokenizer_for_prediction = loaded_tokenizer\n",
        "# device_for_prediction = current_device\n",
        "# MAX_LEN_for_prediction = MAX_LEN # Or the MAX_LEN you defined when loading\n",
        "\n"
      ],
      "metadata": {
        "id": "EozIFk-xHHmq"
      },
      "execution_count": null,
      "outputs": []
    },
    {
      "cell_type": "markdown",
      "source": [
        "if you just finished training in the same session:"
      ],
      "metadata": {
        "id": "-rr3Tak1HMx_"
      }
    },
    {
      "cell_type": "code",
      "source": [
        "custom_smiles = \"Cc1ccccc1N\"  # Example: N-methylaniline\n",
        "if 'model' in locals() and 'tokenizer' in locals() and 'device' in locals() and 'MAX_LEN' in locals():\n",
        "    predicted_value = predict_solubility(\n",
        "        custom_smiles,\n",
        "        model,          # Your trained model object\n",
        "        tokenizer,      # Your tokenizer object\n",
        "        device,         # The device your model is on ('cuda' or 'cpu')\n",
        "        max_length=MAX_LEN # The max_length used during training\n",
        "    )\n",
        "\n",
        "    if predicted_value is not None:\n",
        "        print(f\"The predicted solubility (logS) for '{custom_smiles}' is: {predicted_value:.4f}\")\n",
        "    else:\n",
        "        print(f\"Could not predict solubility for '{custom_smiles}'. Check for errors.\")\n",
        "else:\n",
        "    print(\"Model, tokenizer, device or MAX_LEN not found. Make sure they are loaded/defined.\")\n",
        "\n",
        "# Example with another SMILES\n",
        "another_custom_smiles = \"O=C(O)c1ccccc1OC(=O)C\" # Aspirin\n",
        "if 'model' in locals() and 'tokenizer' in locals() and 'device' in locals() and 'MAX_LEN' in locals():\n",
        "    predicted_value_aspirin = predict_solubility(\n",
        "        another_custom_smiles,\n",
        "        model, tokenizer, device, max_length=MAX_LEN\n",
        "    )\n",
        "    if predicted_value_aspirin is not None:\n",
        "        print(f\"The predicted solubility (logS) for '{another_custom_smiles}' is: {predicted_value_aspirin:.4f}\")"
      ],
      "metadata": {
        "colab": {
          "base_uri": "https://localhost:8080/"
        },
        "id": "M2LMeViXp_aQ",
        "outputId": "1dadd7c3-e4e4-48da-c6c2-46b5c6e37525"
      },
      "execution_count": 22,
      "outputs": [
        {
          "output_type": "stream",
          "name": "stdout",
          "text": [
            "The predicted solubility (logS) for 'Cc1ccccc1N' is: -1.0585\n",
            "The predicted solubility (logS) for 'O=C(O)c1ccccc1OC(=O)C' is: -2.7206\n"
          ]
        }
      ]
    },
    {
      "cell_type": "markdown",
      "source": [
        "**FOR SAVING THE MODEL**"
      ],
      "metadata": {
        "id": "VIfUZGf9Gm4z"
      }
    },
    {
      "cell_type": "code",
      "source": [
        "OUTPUT_MODEL_PATH = \"./chemberta_solubility_predictor\"\n",
        "\n",
        "if 'model' in globals() and history['train_loss']: # Only save if trained\n",
        "   # Create directory if it doesn't exist\n",
        "   import os\n",
        "   if not os.path.exists(OUTPUT_MODEL_PATH):\n",
        "       os.makedirs(OUTPUT_MODEL_PATH)\n",
        "\n",
        "   # Save the model's state_dict\n",
        "   torch.save(model.state_dict(), os.path.join(OUTPUT_MODEL_PATH, \"pytorch_model.bin\"))\n",
        "   # Save the tokenizer\n",
        "   tokenizer.save_pretrained(OUTPUT_MODEL_PATH)\n",
        "   print(f\"Model and tokenizer saved to {OUTPUT_MODEL_PATH}\")"
      ],
      "metadata": {
        "id": "ygF7_lcmwkGP",
        "colab": {
          "base_uri": "https://localhost:8080/"
        },
        "outputId": "396734aa-ad95-44ac-9944-605cc316de57"
      },
      "execution_count": 23,
      "outputs": [
        {
          "output_type": "stream",
          "name": "stdout",
          "text": [
            "Model and tokenizer saved to ./chemberta_solubility_predictor\n"
          ]
        }
      ]
    },
    {
      "cell_type": "markdown",
      "source": [
        "for loading the model"
      ],
      "metadata": {
        "id": "A5Taj3XdHXJh"
      }
    },
    {
      "cell_type": "code",
      "source": [
        "model_loaded = ChemBERTaRegressor() # Initialize with the correct class\n",
        "model_loaded.load_state_dict(torch.load(os.path.join(OUTPUT_MODEL_PATH, \"pytorch_model.bin\")))\n",
        "tokenizer_loaded = AutoTokenizer.from_pretrained(OUTPUT_MODEL_PATH)\n",
        "model_loaded.to(device)\n",
        "print(\"Model reloaded successfully.\")"
      ],
      "metadata": {
        "colab": {
          "base_uri": "https://localhost:8080/"
        },
        "id": "LZFrheLDzUQV",
        "outputId": "c983c699-7997-4f76-e913-d30b393a3496"
      },
      "execution_count": 24,
      "outputs": [
        {
          "output_type": "stream",
          "name": "stdout",
          "text": [
            "Model reloaded successfully.\n"
          ]
        }
      ]
    },
    {
      "cell_type": "code",
      "source": [
        "if 'model' in locals() and 'tokenizer' in locals() and 'device' in locals() and 'MAX_LEN' in locals():\n",
        "    predicted_value = predict_solubility(\n",
        "        custom_smiles,\n",
        "        model_loaded,          # Your trained model object\n",
        "        tokenizer,      # Your tokenizer object\n",
        "        device,         # The device your model is on ('cuda' or 'cpu')\n",
        "        max_length=MAX_LEN # The max_length used during training\n",
        "    )\n",
        "\n",
        "    if predicted_value is not None:\n",
        "        print(f\"The predicted solubility (logS) for '{custom_smiles}' is: {predicted_value:.4f}\")\n",
        "    else:\n",
        "        print(f\"Could not predict solubility for '{custom_smiles}'. Check for errors.\")\n",
        "else:\n",
        "    print(\"Model, tokenizer, device or MAX_LEN not found. Make sure they are loaded/defined.\")\n"
      ],
      "metadata": {
        "colab": {
          "base_uri": "https://localhost:8080/"
        },
        "id": "sIUuWS8ozesy",
        "outputId": "e1e638f3-3229-438f-f07c-c55abf078bbd"
      },
      "execution_count": 25,
      "outputs": [
        {
          "output_type": "stream",
          "name": "stdout",
          "text": [
            "The predicted solubility (logS) for 'Cc1ccccc1N' is: -1.0585\n"
          ]
        }
      ]
    },
    {
      "cell_type": "code",
      "source": [],
      "metadata": {
        "id": "xWq2OlqFznGt"
      },
      "execution_count": null,
      "outputs": []
    }
  ]
}